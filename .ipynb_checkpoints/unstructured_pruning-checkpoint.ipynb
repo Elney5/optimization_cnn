{
 "cells": [
  {
   "cell_type": "markdown",
   "metadata": {
    "collapsed": false,
    "jupyter": {
     "outputs_hidden": false
    }
   },
   "source": [
    "# Importing Libraries"
   ]
  },
  {
   "cell_type": "code",
   "execution_count": 1,
   "metadata": {
    "ExecuteTime": {
     "end_time": "2024-12-01T21:54:08.114743Z",
     "start_time": "2024-12-01T21:54:08.094916Z"
    },
    "collapsed": false,
    "jupyter": {
     "outputs_hidden": false
    }
   },
   "outputs": [
    {
     "name": "stderr",
     "output_type": "stream",
     "text": [
      "2024-12-01 22:59:36.860248: E external/local_xla/xla/stream_executor/cuda/cuda_fft.cc:477] Unable to register cuFFT factory: Attempting to register factory for plugin cuFFT when one has already been registered\n",
      "WARNING: All log messages before absl::InitializeLog() is called are written to STDERR\n",
      "E0000 00:00:1733093976.942677   23894 cuda_dnn.cc:8310] Unable to register cuDNN factory: Attempting to register factory for plugin cuDNN when one has already been registered\n",
      "E0000 00:00:1733093976.966399   23894 cuda_blas.cc:1418] Unable to register cuBLAS factory: Attempting to register factory for plugin cuBLAS when one has already been registered\n",
      "2024-12-01 22:59:37.158748: I tensorflow/core/platform/cpu_feature_guard.cc:210] This TensorFlow binary is optimized to use available CPU instructions in performance-critical operations.\n",
      "To enable the following instructions: AVX2 FMA, in other operations, rebuild TensorFlow with the appropriate compiler flags.\n"
     ]
    }
   ],
   "source": [
    "import os\n",
    "import tempfile\n",
    "\n",
    "import pandas as pd\n",
    "import numpy as np\n",
    "\n",
    "from configparser import ConfigParser\n",
    "\n",
    "import tensorflow as tf\n",
    "import tensorflow_datasets as tfds\n",
    "\n",
    "import tensorflow_model_optimization as tfmot\n",
    "\n",
    "from tf_keras import optimizers, models, Sequential, losses, layers\n",
    "from tf_keras.applications import VGG16\n",
    "from tf_keras.layers import Input\n",
    "from tf_keras.models import Model\n",
    "\n",
    "from utils import create_model_checkpoint, unstructured_prune_model, normalize_img, time_benchmark\n",
    "from utils.Objects import PrunedModel\n",
    "from utils.Plots import plot_unstructured_accuracy_sparcity"
   ]
  },
  {
   "cell_type": "markdown",
   "metadata": {},
   "source": [
    "# CONSTANTS"
   ]
  },
  {
   "cell_type": "code",
   "execution_count": 2,
   "metadata": {
    "ExecuteTime": {
     "end_time": "2024-12-01T21:54:28.796939Z",
     "start_time": "2024-12-01T21:54:28.778371Z"
    }
   },
   "outputs": [],
   "source": [
    "config = ConfigParser()\n",
    "config.read(\"config.ini\")\n",
    "\n",
    "BATCH_SIZE = int(config[\"BATCHES\"][\"BATCH_SIZE\"])\n",
    "\n",
    "IMG_SIZE = (int(config[\"IMAGES\"][\"IMG_SIZE\"]), int(config[\"IMAGES\"][\"IMG_SIZE\"]))\n",
    "\n",
    "EPOCHS_BEFORE_FINE_TUNING = int(config[\"EPOCHS\"][\"EPOCHS_BEFORE_FINE_TUNING\"])\n",
    "EPOCHS_FINE_TUNING = int(config[\"EPOCHS\"][\"EPOCHS_FINE_TUNING\"])\n",
    "\n",
    "FINE_TUNE_AT = int(config[\"LAYERS\"][\"FINE_TUNE_AT\"])\n",
    "\n",
    "MODEL_DIRECTORY = config[\"MODEL\"][\"MODEL_DIRECTORY\"]\n",
    "WEIGHTS_DIRECTORY = config[\"MODEL\"][\"WEIGHTS_DIRECTORY\"]\n",
    "METRICS_DIRECTORY = config[\"MODEL\"][\"METRICS_DIRECTORY\"]\n",
    "HORSE_AND_HUMAN_MODEL = os.path.join(MODEL_DIRECTORY, config[\"MODEL\"][\"HORSE_AND_HUMAN_MODEL\"])\n",
    "HORSE_AND_HUMAN_WEIGHTS = os.path.join(WEIGHTS_DIRECTORY, config[\"MODEL\"][\"HORSE_AND_HUMAN_WEIGHTS\"])\n",
    "UNSTRUCTURED_METRICS = os.path.join(METRICS_DIRECTORY, config[\"MODEL\"][\"UNSTRUCTURED_METRICS\"])\n",
    "UNSTRUCTURED_HORSE_AND_HUMAN_WEIGHTS = os.path.join(WEIGHTS_DIRECTORY, config[\"MODEL\"][\"UNSTRUCTURED_HORSE_AND_HUMAN_WEIGHTS\"])"
   ]
  },
  {
   "cell_type": "markdown",
   "metadata": {
    "ExecuteTime": {
     "end_time": "2024-12-01T21:23:58.329470Z",
     "start_time": "2024-12-01T21:23:58.317564Z"
    },
    "collapsed": false,
    "jupyter": {
     "outputs_hidden": false
    }
   },
   "source": [
    "# Importing the dataset Horses or Humans"
   ]
  },
  {
   "cell_type": "code",
   "execution_count": 3,
   "metadata": {
    "ExecuteTime": {
     "end_time": "2024-11-28T21:15:10.964142Z",
     "start_time": "2024-11-28T21:15:09.548134Z"
    },
    "collapsed": false,
    "jupyter": {
     "outputs_hidden": false
    }
   },
   "outputs": [
    {
     "name": "stderr",
     "output_type": "stream",
     "text": [
      "I0000 00:00:1733093980.329729   23894 gpu_device.cc:2022] Created device /job:localhost/replica:0/task:0/device:GPU:0 with 7502 MB memory:  -> device: 0, name: NVIDIA GeForce GTX 1070 Ti, pci bus id: 0000:00:10.0, compute capability: 6.1\n"
     ]
    }
   ],
   "source": [
    "(train_examples, validation_examples), info = tfds.load(\n",
    "    'horses_or_humans',\n",
    "    split=('train[:70%]', 'train[70%:]'),\n",
    "    with_info=True,\n",
    "    as_supervised=True\n",
    ")"
   ]
  },
  {
   "cell_type": "code",
   "execution_count": 4,
   "metadata": {
    "ExecuteTime": {
     "end_time": "2024-11-28T21:15:14.247718Z",
     "start_time": "2024-11-28T21:15:14.236219Z"
    },
    "collapsed": false,
    "jupyter": {
     "outputs_hidden": false
    }
   },
   "outputs": [
    {
     "data": {
      "text/plain": [
       "(1027, 2, ['horses', 'humans'])"
      ]
     },
     "execution_count": 4,
     "metadata": {},
     "output_type": "execute_result"
    }
   ],
   "source": [
    "# Information about the dataset Horses or Humans\n",
    "num_examples = info.splits['train'].num_examples\n",
    "num_classes = info.features['label'].num_classes\n",
    "class_names = info.features['label'].names\n",
    "num_examples, num_classes, class_names"
   ]
  },
  {
   "cell_type": "markdown",
   "metadata": {
    "collapsed": false,
    "jupyter": {
     "outputs_hidden": false
    }
   },
   "source": [
    "# Converting the images to the required size for TensorFlow Model"
   ]
  },
  {
   "cell_type": "code",
   "execution_count": 5,
   "metadata": {
    "ExecuteTime": {
     "end_time": "2024-11-28T21:15:18.528248Z",
     "start_time": "2024-11-28T21:15:18.437998Z"
    },
    "collapsed": false,
    "jupyter": {
     "outputs_hidden": false
    }
   },
   "outputs": [],
   "source": [
    "def format_image(image, label):\n",
    "    image = tf.image.resize(image, IMG_SIZE)\n",
    "    return image, label"
   ]
  },
  {
   "cell_type": "code",
   "execution_count": 6,
   "metadata": {},
   "outputs": [],
   "source": [
    "train_batches = train_examples.cache().shuffle(num_examples // 4).map(format_image).batch(BATCH_SIZE).prefetch(1)\n",
    "validation_batches = validation_examples.map(format_image).batch(BATCH_SIZE).prefetch(1)"
   ]
  },
  {
   "cell_type": "markdown",
   "metadata": {
    "collapsed": false,
    "jupyter": {
     "outputs_hidden": false
    }
   },
   "source": [
    "# Creating the Model using Transfer Learning with VGG16 Model and Personal Classification Layers"
   ]
  },
  {
   "cell_type": "code",
   "execution_count": 7,
   "metadata": {
    "ExecuteTime": {
     "end_time": "2024-12-01T20:11:20.397987Z",
     "start_time": "2024-12-01T20:11:17.957708Z"
    },
    "collapsed": false,
    "jupyter": {
     "outputs_hidden": false
    }
   },
   "outputs": [
    {
     "name": "stdout",
     "output_type": "stream",
     "text": [
      "Model: \"model_experiments/model_horses_or_humans.keras\"\n",
      "_________________________________________________________________\n",
      " Layer (type)                Output Shape              Param #   \n",
      "=================================================================\n",
      " input_2 (InputLayer)        [(None, 224, 224, 3)]     0         \n",
      "                                                                 \n",
      " sequential (Sequential)     (None, 14, 14, 512)       7635264   \n",
      "                                                                 \n",
      " global_max_pooling2d (Glob  (None, 512)               0         \n",
      " alMaxPooling2D)                                                 \n",
      "                                                                 \n",
      " dropout (Dropout)           (None, 512)               0         \n",
      "                                                                 \n",
      " dense (Dense)               (None, 2)                 1026      \n",
      "                                                                 \n",
      "=================================================================\n",
      "Total params: 7636290 (29.13 MB)\n",
      "Trainable params: 1026 (4.01 KB)\n",
      "Non-trainable params: 7635264 (29.13 MB)\n",
      "_________________________________________________________________\n"
     ]
    }
   ],
   "source": [
    "# Create the base model from the pre-trained model VGG16 for transfer learning\n",
    "vgg16_model = VGG16(input_shape=(224, 224, 3),\n",
    "                    include_top=False,\n",
    "                    weights='imagenet')\n",
    "# Freeze the base model\n",
    "vgg16_model.trainable = False\n",
    "\n",
    "# Create a sequential mode\n",
    "test_model = Sequential()\n",
    "for layer in vgg16_model.layers[:-4]:\n",
    "    test_model.add(layer)\n",
    "\n",
    "del vgg16_model\n",
    "\n",
    "for layer in test_model.layers:\n",
    "    layer.trainable = False\n",
    "\n",
    "# Add personal classification layers on top of the base model\n",
    "max_pool_layer = layers.GlobalMaxPooling2D()\n",
    "prediction_layer = layers.Dense(2, activation='softmax')  # For binary classification (2 classes)\n",
    "\n",
    "inputs = Input(shape=(224, 224, 3))\n",
    "\n",
    "x = test_model(inputs)  # Use default training=True behavior\n",
    "x = max_pool_layer(x)\n",
    "x = layers.Dropout(0.3)(x)  # Apply dropout during training\n",
    "\n",
    "outputs = prediction_layer(x)\n",
    "\n",
    "model = Model(inputs, outputs, name=HORSE_AND_HUMAN_MODEL + \".keras\")\n",
    "model.summary()"
   ]
  },
  {
   "cell_type": "markdown",
   "metadata": {
    "collapsed": false,
    "jupyter": {
     "outputs_hidden": false
    }
   },
   "source": [
    "# Compile the model"
   ]
  },
  {
   "cell_type": "code",
   "execution_count": 8,
   "metadata": {
    "ExecuteTime": {
     "end_time": "2024-11-21T05:01:26.389443Z",
     "start_time": "2024-11-21T05:01:26.278090700Z"
    },
    "collapsed": false,
    "jupyter": {
     "outputs_hidden": false
    }
   },
   "outputs": [],
   "source": [
    "model.compile(\n",
    "    optimizer='adam',\n",
    "    loss=losses.SparseCategoricalCrossentropy(),\n",
    "    metrics=['accuracy'])"
   ]
  },
  {
   "cell_type": "code",
   "execution_count": 9,
   "metadata": {
    "ExecuteTime": {
     "end_time": "2024-11-21T05:06:49.440395800Z",
     "start_time": "2024-11-21T05:01:26.391443Z"
    },
    "collapsed": false,
    "jupyter": {
     "outputs_hidden": false
    }
   },
   "outputs": [
    {
     "name": "stdout",
     "output_type": "stream",
     "text": [
      "Epoch 1/3\n"
     ]
    },
    {
     "name": "stderr",
     "output_type": "stream",
     "text": [
      "2024-12-01 22:59:41.512926: I tensorflow/core/kernels/data/tf_record_dataset_op.cc:376] The default buffer size is 262144, which is overridden by the user specified `buffer_size` of 8388608\n",
      "I0000 00:00:1733093981.958925   23925 cuda_dnn.cc:529] Loaded cuDNN version 90300\n"
     ]
    },
    {
     "name": "stdout",
     "output_type": "stream",
     "text": [
      " 1/23 [>.............................] - ETA: 1:55 - loss: 449.8886 - accuracy: 0.6250"
     ]
    },
    {
     "name": "stderr",
     "output_type": "stream",
     "text": [
      "WARNING: All log messages before absl::InitializeLog() is called are written to STDERR\n",
      "I0000 00:00:1733093986.110925   23926 service.cc:148] XLA service 0x7634d0269d60 initialized for platform CUDA (this does not guarantee that XLA will be used). Devices:\n",
      "I0000 00:00:1733093986.110966   23926 service.cc:156]   StreamExecutor device (0): NVIDIA GeForce GTX 1070 Ti, Compute Capability 6.1\n",
      "2024-12-01 22:59:46.116017: I tensorflow/compiler/mlir/tensorflow/utils/dump_mlir_util.cc:268] disabling MLIR crash reproducer, set env var `MLIR_CRASH_REPRODUCER_DIRECTORY` to enable.\n",
      "2024-12-01 22:59:46.138199: W external/local_xla/xla/service/gpu/nvptx_compiler.cc:930] The NVIDIA driver's CUDA version is 12.4 which is older than the PTX compiler version 12.5.82. Because the driver is older than the PTX compiler version, XLA is disabling parallel compilation, which may slow down compilation. You should update your NVIDIA driver or use the NVIDIA-provided CUDA forward compatibility packages.\n",
      "I0000 00:00:1733093986.176213   23926 device_compiler.h:188] Compiled cluster using XLA!  This line is logged at most once for the lifetime of the process.\n"
     ]
    },
    {
     "name": "stdout",
     "output_type": "stream",
     "text": [
      "23/23 [==============================] - 11s 283ms/step - loss: 401.4666 - accuracy: 0.5341 - val_loss: 281.2387 - val_accuracy: 0.5844\n",
      "Epoch 2/3\n",
      "23/23 [==============================] - 3s 116ms/step - loss: 323.9909 - accuracy: 0.6147 - val_loss: 52.5876 - val_accuracy: 0.8312\n",
      "Epoch 3/3\n",
      "23/23 [==============================] - 3s 116ms/step - loss: 237.9677 - accuracy: 0.6801 - val_loss: 67.6635 - val_accuracy: 0.8117\n"
     ]
    }
   ],
   "source": [
    "history = model.fit(train_batches,\n",
    "                    epochs=EPOCHS_BEFORE_FINE_TUNING,\n",
    "                    batch_size=BATCH_SIZE,\n",
    "                    validation_data=validation_batches)"
   ]
  },
  {
   "cell_type": "code",
   "execution_count": 10,
   "metadata": {
    "ExecuteTime": {
     "end_time": "2024-11-21T05:06:49.470620900Z",
     "start_time": "2024-11-21T05:06:49.460345200Z"
    },
    "collapsed": false,
    "jupyter": {
     "outputs_hidden": false
    }
   },
   "outputs": [],
   "source": [
    "test_model.trainable = True\n",
    "# Fine-tune from this layer onwards\n",
    "fine_tune_at = FINE_TUNE_AT\n",
    "\n",
    "# Freeze all the layers before the `fine_tune_at` layer\n",
    "for layer in test_model.layers[:-fine_tune_at]:\n",
    "    layer.trainable = False"
   ]
  },
  {
   "cell_type": "code",
   "execution_count": 11,
   "metadata": {
    "ExecuteTime": {
     "end_time": "2024-11-21T05:06:49.518231400Z",
     "start_time": "2024-11-21T05:06:49.484213Z"
    },
    "collapsed": false,
    "jupyter": {
     "outputs_hidden": false
    }
   },
   "outputs": [],
   "source": [
    "model.compile(loss=losses.SparseCategoricalCrossentropy(),\n",
    "              optimizer=optimizers.Adam(learning_rate=0.0001),\n",
    "              metrics=['accuracy'])"
   ]
  },
  {
   "cell_type": "code",
   "execution_count": 12,
   "metadata": {
    "ExecuteTime": {
     "end_time": "2024-11-21T05:16:46.288024900Z",
     "start_time": "2024-11-21T05:06:49.515268Z"
    },
    "collapsed": false,
    "jupyter": {
     "outputs_hidden": false
    }
   },
   "outputs": [
    {
     "name": "stdout",
     "output_type": "stream",
     "text": [
      "Epoch 1/5\n",
      "23/23 [==============================] - 4s 146ms/step - loss: 104.9518 - accuracy: 0.8317 - val_loss: 1.2802 - val_accuracy: 0.9870\n",
      "Epoch 2/5\n",
      "23/23 [==============================] - 3s 133ms/step - loss: 19.4145 - accuracy: 0.9624 - val_loss: 0.0000e+00 - val_accuracy: 1.0000\n",
      "Epoch 3/5\n",
      "23/23 [==============================] - 3s 126ms/step - loss: 7.2311 - accuracy: 0.9833 - val_loss: 0.0000e+00 - val_accuracy: 1.0000\n",
      "Epoch 4/5\n",
      "23/23 [==============================] - 3s 127ms/step - loss: 3.4733 - accuracy: 0.9917 - val_loss: 0.0000e+00 - val_accuracy: 1.0000\n",
      "Epoch 5/5\n",
      "23/23 [==============================] - 3s 127ms/step - loss: 1.7757 - accuracy: 0.9930 - val_loss: 0.0000e+00 - val_accuracy: 1.0000\n"
     ]
    }
   ],
   "source": [
    "history = model.fit(train_batches,\n",
    "                    epochs=EPOCHS_FINE_TUNING,\n",
    "                    batch_size=BATCH_SIZE,\n",
    "                    validation_data=validation_batches,\n",
    "                    callbacks=[create_model_checkpoint(model_name=model.name)])"
   ]
  },
  {
   "cell_type": "markdown",
   "metadata": {
    "collapsed": false,
    "jupyter": {
     "outputs_hidden": false
    }
   },
   "source": []
  },
  {
   "cell_type": "markdown",
   "metadata": {
    "collapsed": false,
    "jupyter": {
     "outputs_hidden": false
    }
   },
   "source": [
    "## Save the model and history"
   ]
  },
  {
   "cell_type": "code",
   "execution_count": 13,
   "metadata": {
    "ExecuteTime": {
     "end_time": "2024-12-01T20:40:44.293864Z",
     "start_time": "2024-12-01T20:40:44.075265Z"
    },
    "collapsed": false,
    "jupyter": {
     "outputs_hidden": false
    }
   },
   "outputs": [
    {
     "name": "stdout",
     "output_type": "stream",
     "text": [
      "10/10 [==============================] - 1s 80ms/step - loss: 0.0000e+00 - accuracy: 1.0000\n"
     ]
    },
    {
     "data": {
      "text/plain": [
       "[0.0, 1.0]"
      ]
     },
     "execution_count": 13,
     "metadata": {},
     "output_type": "execute_result"
    }
   ],
   "source": [
    "model_1 = models.load_model(HORSE_AND_HUMAN_MODEL + \".keras\")\n",
    "history_1 = history.history\n",
    "model_1.evaluate(validation_batches)"
   ]
  },
  {
   "cell_type": "code",
   "execution_count": 14,
   "metadata": {
    "ExecuteTime": {
     "end_time": "2024-11-21T05:17:21.044626200Z",
     "start_time": "2024-11-21T05:17:20.924525700Z"
    },
    "collapsed": false,
    "jupyter": {
     "outputs_hidden": false
    }
   },
   "outputs": [
    {
     "name": "stdout",
     "output_type": "stream",
     "text": [
      "Model: \"model_experiments/model_horses_or_humans.keras\"\n",
      "_________________________________________________________________\n",
      " Layer (type)                Output Shape              Param #   \n",
      "=================================================================\n",
      " input_2 (InputLayer)        [(None, 224, 224, 3)]     0         \n",
      "                                                                 \n",
      " sequential (Sequential)     (None, 14, 14, 512)       7635264   \n",
      "                                                                 \n",
      " global_max_pooling2d (Glob  (None, 512)               0         \n",
      " alMaxPooling2D)                                                 \n",
      "                                                                 \n",
      " dropout (Dropout)           (None, 512)               0         \n",
      "                                                                 \n",
      " dense (Dense)               (None, 2)                 1026      \n",
      "                                                                 \n",
      "=================================================================\n",
      "Total params: 7636290 (29.13 MB)\n",
      "Trainable params: 2360834 (9.01 MB)\n",
      "Non-trainable params: 5275456 (20.12 MB)\n",
      "_________________________________________________________________\n"
     ]
    }
   ],
   "source": [
    "model_1.save_weights(HORSE_AND_HUMAN_WEIGHTS)\n",
    "model_1.summary()"
   ]
  },
  {
   "cell_type": "code",
   "execution_count": 15,
   "metadata": {
    "ExecuteTime": {
     "end_time": "2024-11-21T05:17:21.160672900Z",
     "start_time": "2024-11-21T05:17:21.080414300Z"
    },
    "collapsed": false,
    "jupyter": {
     "outputs_hidden": false
    }
   },
   "outputs": [],
   "source": [
    "val_data = validation_examples\n",
    "val_data = val_data.map(format_image).batch(BATCH_SIZE).prefetch(tf.data.AUTOTUNE)\n",
    "val_data = val_data.map(normalize_img)"
   ]
  },
  {
   "cell_type": "markdown",
   "metadata": {
    "collapsed": false,
    "jupyter": {
     "outputs_hidden": false
    }
   },
   "source": [
    "# Evaluate the model on the test data"
   ]
  },
  {
   "cell_type": "code",
   "execution_count": 16,
   "metadata": {
    "ExecuteTime": {
     "end_time": "2024-12-01T20:47:28.763051Z",
     "start_time": "2024-12-01T20:46:28.888733Z"
    },
    "collapsed": false,
    "jupyter": {
     "outputs_hidden": false
    }
   },
   "outputs": [
    {
     "name": "stdout",
     "output_type": "stream",
     "text": [
      "10/10 [==============================] - 1s 80ms/step - loss: 0.0000e+00 - accuracy: 1.0000\n",
      "The accuracy of the baseline model is 100.00 %\n"
     ]
    },
    {
     "data": {
      "text/plain": [
       "{'sparsity': 0, 'val_loss': 0.0, 'val_accuracy': 100.0}"
      ]
     },
     "execution_count": 16,
     "metadata": {},
     "output_type": "execute_result"
    }
   ],
   "source": [
    "baseline_score = model_1.evaluate(validation_batches)\n",
    "print(f\"The accuracy of the baseline model is {baseline_score[1] * 100:.2f} %\")\n",
    "base_metrics = {\n",
    "    \"sparsity\": 0,\n",
    "    \"val_loss\": np.round(baseline_score[0], 4),\n",
    "    \"val_accuracy\": np.round(baseline_score[1] * 100, 4)\n",
    "}\n",
    "base_metrics"
   ]
  },
  {
   "cell_type": "markdown",
   "metadata": {
    "ExecuteTime": {
     "end_time": "2024-12-01T21:22:37.744189Z",
     "start_time": "2024-12-01T21:22:37.721060Z"
    },
    "collapsed": false,
    "jupyter": {
     "outputs_hidden": false
    }
   },
   "source": [
    "## Save the model and history\n"
   ]
  },
  {
   "cell_type": "code",
   "execution_count": 17,
   "metadata": {
    "ExecuteTime": {
     "end_time": "2024-11-21T05:18:19.828155Z",
     "start_time": "2024-11-21T05:17:52.829654100Z"
    },
    "collapsed": false,
    "jupyter": {
     "outputs_hidden": false
    }
   },
   "outputs": [
    {
     "name": "stdout",
     "output_type": "stream",
     "text": [
      "1/1 [==============================] - 0s 100ms/step\n",
      "1/1 [==============================] - 0s 54ms/step\n",
      "1/1 [==============================] - 0s 22ms/step\n",
      "1/1 [==============================] - 0s 17ms/step\n",
      "1/1 [==============================] - 0s 21ms/step\n",
      "1/1 [==============================] - 0s 21ms/step\n",
      "1/1 [==============================] - 0s 21ms/step\n",
      "1/1 [==============================] - 0s 21ms/step\n",
      "1/1 [==============================] - 0s 21ms/step\n",
      "1/1 [==============================] - 0s 86ms/step\n",
      "The first image takes 212.77 ms\n",
      "The average time taken per 99 images 135.37 ms\n",
      "The standard deviation of samples is 23.04 ms\n"
     ]
    },
    {
     "name": "stderr",
     "output_type": "stream",
     "text": [
      "2024-12-01 23:00:18.380739: I tensorflow/core/framework/local_rendezvous.cc:405] Local rendezvous is aborting with status: OUT_OF_RANGE: End of sequence\n"
     ]
    }
   ],
   "source": [
    "init_time, avg_time, std = time_benchmark(model_1, class_names, val_data)"
   ]
  },
  {
   "cell_type": "code",
   "execution_count": 18,
   "metadata": {
    "ExecuteTime": {
     "end_time": "2024-11-21T11:03:29.378194400Z",
     "start_time": "2024-11-21T05:18:30.012329500Z"
    },
    "collapsed": false,
    "jupyter": {
     "outputs_hidden": false
    },
    "scrolled": true
   },
   "outputs": [
    {
     "name": "stdout",
     "output_type": "stream",
     "text": [
      "Epoch 1/20\n",
      "23/23 [==============================] - 8s 140ms/step - loss: 77.9722 - accuracy: 0.9291 - val_loss: 4.0532 - val_accuracy: 0.9870\n",
      "Epoch 2/20\n",
      "23/23 [==============================] - 3s 130ms/step - loss: 1.6506 - accuracy: 0.9972 - val_loss: 0.4105 - val_accuracy: 0.9968\n",
      "Epoch 3/20\n",
      "23/23 [==============================] - 3s 130ms/step - loss: 7.5474 - accuracy: 0.9917 - val_loss: 0.0000e+00 - val_accuracy: 1.0000\n",
      "Epoch 4/20\n",
      "23/23 [==============================] - 3s 130ms/step - loss: 2.7853 - accuracy: 0.9972 - val_loss: 0.8250 - val_accuracy: 0.9935\n",
      "Epoch 5/20\n",
      "23/23 [==============================] - 4s 191ms/step - loss: 3.1017 - accuracy: 0.9903 - val_loss: 0.0000e+00 - val_accuracy: 1.0000\n",
      "Epoch 6/20\n",
      "23/23 [==============================] - 3s 130ms/step - loss: 6.7869 - accuracy: 0.9986 - val_loss: 0.0000e+00 - val_accuracy: 1.0000\n",
      "Epoch 7/20\n",
      "23/23 [==============================] - 3s 130ms/step - loss: 4.3741 - accuracy: 0.9986 - val_loss: 0.0000e+00 - val_accuracy: 1.0000\n",
      "Epoch 8/20\n",
      "23/23 [==============================] - 3s 130ms/step - loss: 0.8690 - accuracy: 0.9972 - val_loss: 0.0000e+00 - val_accuracy: 1.0000\n",
      "Epoch 9/20\n",
      "23/23 [==============================] - 3s 130ms/step - loss: 3.2587 - accuracy: 0.9958 - val_loss: 0.0000e+00 - val_accuracy: 1.0000\n",
      "Epoch 10/20\n",
      "23/23 [==============================] - 3s 130ms/step - loss: 0.0000e+00 - accuracy: 1.0000 - val_loss: 0.0000e+00 - val_accuracy: 1.0000\n",
      "Epoch 11/20\n",
      "23/23 [==============================] - 3s 131ms/step - loss: 0.0000e+00 - accuracy: 1.0000 - val_loss: 0.0000e+00 - val_accuracy: 1.0000\n",
      "Epoch 12/20\n",
      "23/23 [==============================] - 3s 130ms/step - loss: 0.0000e+00 - accuracy: 1.0000 - val_loss: 0.0000e+00 - val_accuracy: 1.0000\n",
      "Epoch 13/20\n",
      "23/23 [==============================] - 3s 131ms/step - loss: 0.0000e+00 - accuracy: 1.0000 - val_loss: 0.0000e+00 - val_accuracy: 1.0000\n",
      "Epoch 14/20\n",
      "23/23 [==============================] - 3s 131ms/step - loss: 0.0000e+00 - accuracy: 1.0000 - val_loss: 0.0000e+00 - val_accuracy: 1.0000\n",
      "Epoch 15/20\n",
      "23/23 [==============================] - 3s 130ms/step - loss: 0.0000e+00 - accuracy: 1.0000 - val_loss: 0.0000e+00 - val_accuracy: 1.0000\n",
      "Epoch 16/20\n",
      "23/23 [==============================] - 3s 131ms/step - loss: 0.0000e+00 - accuracy: 1.0000 - val_loss: 0.0000e+00 - val_accuracy: 1.0000\n",
      "Epoch 17/20\n",
      "23/23 [==============================] - 3s 131ms/step - loss: 0.0000e+00 - accuracy: 1.0000 - val_loss: 0.0000e+00 - val_accuracy: 1.0000\n",
      "Epoch 18/20\n",
      "23/23 [==============================] - 3s 131ms/step - loss: 0.0000e+00 - accuracy: 1.0000 - val_loss: 0.0000e+00 - val_accuracy: 1.0000\n",
      "Epoch 19/20\n",
      "23/23 [==============================] - 3s 131ms/step - loss: 0.0000e+00 - accuracy: 1.0000 - val_loss: 0.0000e+00 - val_accuracy: 1.0000\n",
      "Epoch 20/20\n",
      "23/23 [==============================] - 3s 130ms/step - loss: 0.0000e+00 - accuracy: 1.0000 - val_loss: 0.0000e+00 - val_accuracy: 1.0000\n",
      "metrics.sparsity=0.25, \t metrics.val_loss=0.0, \t metrics.val_accuracy=100.0\n",
      "Epoch 1/20\n",
      "23/23 [==============================] - 6s 139ms/step - loss: 270.3473 - accuracy: 0.8609 - val_loss: 0.0000e+00 - val_accuracy: 1.0000\n",
      "Epoch 2/20\n",
      "23/23 [==============================] - 3s 131ms/step - loss: 9.1486 - accuracy: 0.9889 - val_loss: 0.0000e+00 - val_accuracy: 1.0000\n",
      "Epoch 3/20\n",
      "23/23 [==============================] - 3s 131ms/step - loss: 0.0000e+00 - accuracy: 1.0000 - val_loss: 0.0000e+00 - val_accuracy: 1.0000\n",
      "Epoch 4/20\n",
      "23/23 [==============================] - 3s 131ms/step - loss: 0.0000e+00 - accuracy: 1.0000 - val_loss: 0.0000e+00 - val_accuracy: 1.0000\n",
      "Epoch 5/20\n",
      "23/23 [==============================] - 3s 130ms/step - loss: 0.0000e+00 - accuracy: 1.0000 - val_loss: 0.0000e+00 - val_accuracy: 1.0000\n",
      "Epoch 6/20\n",
      "23/23 [==============================] - 3s 131ms/step - loss: 1.0720 - accuracy: 0.9972 - val_loss: 0.0000e+00 - val_accuracy: 1.0000\n",
      "Epoch 7/20\n",
      "23/23 [==============================] - 3s 130ms/step - loss: 0.0000e+00 - accuracy: 1.0000 - val_loss: 0.0000e+00 - val_accuracy: 1.0000\n",
      "Epoch 8/20\n",
      "23/23 [==============================] - 3s 131ms/step - loss: 0.0000e+00 - accuracy: 1.0000 - val_loss: 0.0000e+00 - val_accuracy: 1.0000\n",
      "Epoch 9/20\n",
      "23/23 [==============================] - 3s 131ms/step - loss: 1.5770 - accuracy: 0.9958 - val_loss: 0.0000e+00 - val_accuracy: 1.0000\n",
      "Epoch 10/20\n",
      "23/23 [==============================] - 3s 130ms/step - loss: 3.0740 - accuracy: 0.9944 - val_loss: 0.0000e+00 - val_accuracy: 1.0000\n",
      "Epoch 11/20\n",
      "23/23 [==============================] - 3s 131ms/step - loss: 0.0000e+00 - accuracy: 1.0000 - val_loss: 0.0000e+00 - val_accuracy: 1.0000\n",
      "Epoch 12/20\n",
      "23/23 [==============================] - 3s 131ms/step - loss: 0.0000e+00 - accuracy: 1.0000 - val_loss: 0.0000e+00 - val_accuracy: 1.0000\n",
      "Epoch 13/20\n",
      "23/23 [==============================] - 3s 130ms/step - loss: 0.0000e+00 - accuracy: 1.0000 - val_loss: 0.0000e+00 - val_accuracy: 1.0000\n",
      "Epoch 14/20\n",
      "23/23 [==============================] - 3s 130ms/step - loss: 0.6276 - accuracy: 0.9972 - val_loss: 0.0000e+00 - val_accuracy: 1.0000\n",
      "Epoch 15/20\n",
      "23/23 [==============================] - 3s 131ms/step - loss: 0.0000e+00 - accuracy: 1.0000 - val_loss: 0.0000e+00 - val_accuracy: 1.0000\n",
      "Epoch 16/20\n",
      "23/23 [==============================] - 3s 131ms/step - loss: 0.1652 - accuracy: 0.9986 - val_loss: 2.1782 - val_accuracy: 0.9838\n",
      "Epoch 17/20\n",
      "23/23 [==============================] - 3s 131ms/step - loss: 0.8933 - accuracy: 0.9972 - val_loss: 0.0000e+00 - val_accuracy: 1.0000\n",
      "Epoch 18/20\n",
      "23/23 [==============================] - 3s 130ms/step - loss: 0.8138 - accuracy: 0.9972 - val_loss: 0.0000e+00 - val_accuracy: 1.0000\n",
      "Epoch 19/20\n",
      "23/23 [==============================] - 3s 131ms/step - loss: 0.5135 - accuracy: 0.9972 - val_loss: 0.0000e+00 - val_accuracy: 1.0000\n",
      "Epoch 20/20\n",
      "23/23 [==============================] - 3s 131ms/step - loss: 0.0000e+00 - accuracy: 1.0000 - val_loss: 0.0000e+00 - val_accuracy: 1.0000\n",
      "metrics.sparsity=0.5, \t metrics.val_loss=0.0, \t metrics.val_accuracy=100.0\n",
      "Epoch 1/20\n",
      "23/23 [==============================] - 7s 140ms/step - loss: 245.2703 - accuracy: 0.8734 - val_loss: 0.0000e+00 - val_accuracy: 1.0000\n",
      "Epoch 2/20\n",
      "23/23 [==============================] - 3s 131ms/step - loss: 2.2640 - accuracy: 0.9958 - val_loss: 0.0000e+00 - val_accuracy: 1.0000\n",
      "Epoch 3/20\n",
      "23/23 [==============================] - 3s 131ms/step - loss: 0.0000e+00 - accuracy: 1.0000 - val_loss: 0.0000e+00 - val_accuracy: 1.0000\n",
      "Epoch 4/20\n",
      "23/23 [==============================] - 3s 131ms/step - loss: 1.1798 - accuracy: 0.9986 - val_loss: 0.0000e+00 - val_accuracy: 1.0000\n",
      "Epoch 5/20\n",
      "23/23 [==============================] - 3s 131ms/step - loss: 2.9847 - accuracy: 0.9930 - val_loss: 0.0000e+00 - val_accuracy: 1.0000\n",
      "Epoch 6/20\n",
      "23/23 [==============================] - 3s 131ms/step - loss: 1.0239 - accuracy: 0.9972 - val_loss: 0.0000e+00 - val_accuracy: 1.0000\n",
      "Epoch 7/20\n",
      "23/23 [==============================] - 3s 130ms/step - loss: 3.4709 - accuracy: 0.9889 - val_loss: 1.4998 - val_accuracy: 0.9903\n",
      "Epoch 8/20\n",
      "23/23 [==============================] - 3s 130ms/step - loss: 1.5426 - accuracy: 0.9958 - val_loss: 0.0000e+00 - val_accuracy: 1.0000\n",
      "Epoch 9/20\n",
      "23/23 [==============================] - 3s 131ms/step - loss: 5.5070 - accuracy: 0.9875 - val_loss: 5.3517 - val_accuracy: 0.9708\n",
      "Epoch 10/20\n",
      "23/23 [==============================] - 3s 130ms/step - loss: 5.8059 - accuracy: 0.9791 - val_loss: 0.0000e+00 - val_accuracy: 1.0000\n",
      "Epoch 11/20\n",
      "23/23 [==============================] - 3s 130ms/step - loss: 0.0880 - accuracy: 0.9972 - val_loss: 0.0000e+00 - val_accuracy: 1.0000\n",
      "Epoch 12/20\n",
      "23/23 [==============================] - 3s 131ms/step - loss: 0.3137 - accuracy: 0.9972 - val_loss: 0.0000e+00 - val_accuracy: 1.0000\n",
      "Epoch 13/20\n",
      "23/23 [==============================] - 3s 130ms/step - loss: 0.0000e+00 - accuracy: 1.0000 - val_loss: 0.0000e+00 - val_accuracy: 1.0000\n",
      "Epoch 14/20\n",
      "23/23 [==============================] - 3s 130ms/step - loss: 0.0000e+00 - accuracy: 1.0000 - val_loss: 0.0000e+00 - val_accuracy: 1.0000\n",
      "Epoch 15/20\n",
      "23/23 [==============================] - 3s 130ms/step - loss: 0.0000e+00 - accuracy: 1.0000 - val_loss: 0.0000e+00 - val_accuracy: 1.0000\n",
      "Epoch 16/20\n",
      "23/23 [==============================] - 3s 130ms/step - loss: 0.0000e+00 - accuracy: 1.0000 - val_loss: 0.0000e+00 - val_accuracy: 1.0000\n",
      "Epoch 17/20\n",
      "23/23 [==============================] - 3s 130ms/step - loss: 0.0000e+00 - accuracy: 1.0000 - val_loss: 0.0000e+00 - val_accuracy: 1.0000\n",
      "Epoch 18/20\n",
      "23/23 [==============================] - 3s 130ms/step - loss: 0.0000e+00 - accuracy: 1.0000 - val_loss: 0.0000e+00 - val_accuracy: 1.0000\n",
      "Epoch 19/20\n",
      "23/23 [==============================] - 3s 130ms/step - loss: 0.0000e+00 - accuracy: 1.0000 - val_loss: 0.0000e+00 - val_accuracy: 1.0000\n",
      "Epoch 20/20\n",
      "23/23 [==============================] - 3s 130ms/step - loss: 0.0000e+00 - accuracy: 1.0000 - val_loss: 0.0000e+00 - val_accuracy: 1.0000\n",
      "metrics.sparsity=0.6, \t metrics.val_loss=0.0, \t metrics.val_accuracy=100.0\n",
      "Epoch 1/20\n",
      "23/23 [==============================] - 7s 140ms/step - loss: 285.0107 - accuracy: 0.8651 - val_loss: 0.0000e+00 - val_accuracy: 1.0000\n",
      "Epoch 2/20\n",
      "23/23 [==============================] - 3s 131ms/step - loss: 6.7554 - accuracy: 0.9930 - val_loss: 0.0000e+00 - val_accuracy: 1.0000\n",
      "Epoch 3/20\n",
      "23/23 [==============================] - 3s 131ms/step - loss: 1.4543 - accuracy: 0.9972 - val_loss: 0.0000e+00 - val_accuracy: 1.0000\n",
      "Epoch 4/20\n",
      "23/23 [==============================] - 3s 131ms/step - loss: 0.0000e+00 - accuracy: 1.0000 - val_loss: 0.0363 - val_accuracy: 0.9968\n",
      "Epoch 5/20\n",
      "23/23 [==============================] - 3s 131ms/step - loss: 0.9856 - accuracy: 0.9972 - val_loss: 1.7143 - val_accuracy: 0.9935\n",
      "Epoch 6/20\n",
      "23/23 [==============================] - 3s 130ms/step - loss: 1.2713 - accuracy: 0.9944 - val_loss: 0.0000e+00 - val_accuracy: 1.0000\n",
      "Epoch 7/20\n",
      "23/23 [==============================] - 3s 131ms/step - loss: 0.5454 - accuracy: 0.9972 - val_loss: 0.0000e+00 - val_accuracy: 1.0000\n",
      "Epoch 8/20\n",
      "23/23 [==============================] - 3s 130ms/step - loss: 1.2030 - accuracy: 0.9930 - val_loss: 1.2969 - val_accuracy: 0.9903\n",
      "Epoch 9/20\n",
      "23/23 [==============================] - 3s 131ms/step - loss: 2.9674 - accuracy: 0.9819 - val_loss: 0.0000e+00 - val_accuracy: 1.0000\n",
      "Epoch 10/20\n",
      "23/23 [==============================] - 3s 130ms/step - loss: 2.8254 - accuracy: 0.9847 - val_loss: 0.0000e+00 - val_accuracy: 1.0000\n",
      "Epoch 11/20\n",
      "23/23 [==============================] - 3s 130ms/step - loss: 1.8144 - accuracy: 0.9875 - val_loss: 0.0145 - val_accuracy: 0.9968\n",
      "Epoch 12/20\n",
      "23/23 [==============================] - 3s 130ms/step - loss: 0.2750 - accuracy: 0.9944 - val_loss: 0.3115 - val_accuracy: 0.9968\n",
      "Epoch 13/20\n",
      "23/23 [==============================] - 3s 129ms/step - loss: 1.3076 - accuracy: 0.9917 - val_loss: 0.5289 - val_accuracy: 0.9968\n",
      "Epoch 14/20\n",
      "23/23 [==============================] - 3s 130ms/step - loss: 0.5962 - accuracy: 0.9930 - val_loss: 0.0000e+00 - val_accuracy: 1.0000\n",
      "Epoch 15/20\n",
      "23/23 [==============================] - 3s 130ms/step - loss: 0.4210 - accuracy: 0.9986 - val_loss: 0.0000e+00 - val_accuracy: 1.0000\n",
      "Epoch 16/20\n",
      "23/23 [==============================] - 3s 130ms/step - loss: 0.1835 - accuracy: 0.9986 - val_loss: 0.0000e+00 - val_accuracy: 1.0000\n",
      "Epoch 17/20\n",
      "23/23 [==============================] - 3s 130ms/step - loss: 0.8368 - accuracy: 0.9958 - val_loss: 0.0000e+00 - val_accuracy: 1.0000\n",
      "Epoch 18/20\n",
      "23/23 [==============================] - 3s 130ms/step - loss: 0.8506 - accuracy: 0.9944 - val_loss: 0.0000e+00 - val_accuracy: 1.0000\n",
      "Epoch 19/20\n",
      "23/23 [==============================] - 3s 130ms/step - loss: 1.0472 - accuracy: 0.9958 - val_loss: 0.4944 - val_accuracy: 0.9968\n",
      "Epoch 20/20\n",
      "23/23 [==============================] - 3s 130ms/step - loss: 0.0621 - accuracy: 0.9986 - val_loss: 0.0000e+00 - val_accuracy: 1.0000\n",
      "metrics.sparsity=0.7, \t metrics.val_loss=0.0, \t metrics.val_accuracy=100.0\n",
      "Epoch 1/20\n",
      "23/23 [==============================] - 7s 140ms/step - loss: 379.2987 - accuracy: 0.8401 - val_loss: 30.7503 - val_accuracy: 0.9610\n",
      "Epoch 2/20\n",
      "23/23 [==============================] - 3s 131ms/step - loss: 10.7720 - accuracy: 0.9875 - val_loss: 3.3527 - val_accuracy: 0.9968\n",
      "Epoch 3/20\n",
      "23/23 [==============================] - 3s 131ms/step - loss: 4.3486 - accuracy: 0.9958 - val_loss: 0.0000e+00 - val_accuracy: 1.0000\n",
      "Epoch 4/20\n",
      "23/23 [==============================] - 3s 131ms/step - loss: 0.2723 - accuracy: 0.9986 - val_loss: 0.0000e+00 - val_accuracy: 1.0000\n",
      "Epoch 5/20\n",
      "23/23 [==============================] - 3s 131ms/step - loss: 1.9521 - accuracy: 0.9889 - val_loss: 0.0000e+00 - val_accuracy: 1.0000\n",
      "Epoch 6/20\n",
      "23/23 [==============================] - 3s 130ms/step - loss: 2.9833 - accuracy: 0.9875 - val_loss: 0.0000e+00 - val_accuracy: 1.0000\n",
      "Epoch 7/20\n",
      "23/23 [==============================] - 3s 130ms/step - loss: 0.6303 - accuracy: 0.9972 - val_loss: 0.0000e+00 - val_accuracy: 1.0000\n",
      "Epoch 8/20\n",
      "23/23 [==============================] - 3s 130ms/step - loss: 2.3455 - accuracy: 0.9903 - val_loss: 0.0000e+00 - val_accuracy: 1.0000\n",
      "Epoch 9/20\n",
      "23/23 [==============================] - 3s 130ms/step - loss: 21.4875 - accuracy: 0.8999 - val_loss: 25.0176 - val_accuracy: 0.8149\n",
      "Epoch 10/20\n",
      "23/23 [==============================] - 3s 129ms/step - loss: 9.7312 - accuracy: 0.9068 - val_loss: 0.3441 - val_accuracy: 0.9838\n",
      "Epoch 11/20\n",
      "23/23 [==============================] - 3s 129ms/step - loss: 2.1991 - accuracy: 0.9666 - val_loss: 0.1670 - val_accuracy: 0.9903\n",
      "Epoch 12/20\n",
      "23/23 [==============================] - 3s 129ms/step - loss: 0.7495 - accuracy: 0.9861 - val_loss: 0.1753 - val_accuracy: 0.9935\n",
      "Epoch 13/20\n",
      "23/23 [==============================] - 3s 129ms/step - loss: 0.4965 - accuracy: 0.9917 - val_loss: 6.3449e-04 - val_accuracy: 1.0000\n",
      "Epoch 14/20\n",
      "23/23 [==============================] - 3s 130ms/step - loss: 0.0076 - accuracy: 0.9986 - val_loss: 0.0475 - val_accuracy: 0.9968\n",
      "Epoch 15/20\n",
      "23/23 [==============================] - 3s 130ms/step - loss: 0.5336 - accuracy: 0.9903 - val_loss: 0.2966 - val_accuracy: 0.9870\n",
      "Epoch 16/20\n",
      "23/23 [==============================] - 3s 130ms/step - loss: 0.5053 - accuracy: 0.9903 - val_loss: 0.1016 - val_accuracy: 0.9935\n",
      "Epoch 17/20\n",
      "23/23 [==============================] - 3s 129ms/step - loss: 0.1137 - accuracy: 0.9903 - val_loss: 0.2437 - val_accuracy: 0.9935\n",
      "Epoch 18/20\n",
      "23/23 [==============================] - 3s 130ms/step - loss: 0.1563 - accuracy: 0.9944 - val_loss: 0.0244 - val_accuracy: 0.9968\n",
      "Epoch 19/20\n",
      "23/23 [==============================] - 3s 130ms/step - loss: 0.3172 - accuracy: 0.9930 - val_loss: 0.8811 - val_accuracy: 0.9838\n",
      "Epoch 20/20\n",
      "23/23 [==============================] - 3s 130ms/step - loss: 0.3786 - accuracy: 0.9930 - val_loss: 0.0561 - val_accuracy: 0.9968\n",
      "metrics.sparsity=0.8, \t metrics.val_loss=0.0561, \t metrics.val_accuracy=99.6753\n",
      "Epoch 1/20\n",
      "23/23 [==============================] - 7s 140ms/step - loss: 332.8543 - accuracy: 0.8359 - val_loss: 0.0000e+00 - val_accuracy: 1.0000\n",
      "Epoch 2/20\n",
      "23/23 [==============================] - 3s 131ms/step - loss: 5.9799 - accuracy: 0.9944 - val_loss: 2.5684 - val_accuracy: 0.9968\n",
      "Epoch 3/20\n",
      "23/23 [==============================] - 3s 131ms/step - loss: 0.0000e+00 - accuracy: 1.0000 - val_loss: 0.4188 - val_accuracy: 0.9968\n",
      "Epoch 4/20\n",
      "23/23 [==============================] - 3s 131ms/step - loss: 0.0000e+00 - accuracy: 1.0000 - val_loss: 0.1909 - val_accuracy: 0.9968\n",
      "Epoch 5/20\n",
      "23/23 [==============================] - 3s 130ms/step - loss: 31.6384 - accuracy: 0.9110 - val_loss: 0.9226 - val_accuracy: 0.9838\n",
      "Epoch 6/20\n",
      "23/23 [==============================] - 3s 130ms/step - loss: 1.3405 - accuracy: 0.9903 - val_loss: 1.2159 - val_accuracy: 0.9838\n",
      "Epoch 7/20\n",
      "23/23 [==============================] - 3s 130ms/step - loss: 1.8269 - accuracy: 0.9764 - val_loss: 0.2055 - val_accuracy: 0.9935\n",
      "Epoch 8/20\n",
      "23/23 [==============================] - 3s 130ms/step - loss: 0.4205 - accuracy: 0.9930 - val_loss: 2.0267 - val_accuracy: 0.9805\n",
      "Epoch 9/20\n",
      "23/23 [==============================] - 3s 130ms/step - loss: 55.9120 - accuracy: 0.8303 - val_loss: 56.7794 - val_accuracy: 0.4838\n",
      "Epoch 10/20\n",
      "23/23 [==============================] - 3s 129ms/step - loss: 31.6387 - accuracy: 0.5508 - val_loss: 7.0558 - val_accuracy: 0.5779\n",
      "Epoch 11/20\n",
      "23/23 [==============================] - 3s 129ms/step - loss: 3.8703 - accuracy: 0.6676 - val_loss: 0.6048 - val_accuracy: 0.7727\n",
      "Epoch 12/20\n",
      "23/23 [==============================] - 3s 129ms/step - loss: 0.7455 - accuracy: 0.6245 - val_loss: 0.6867 - val_accuracy: 0.6234\n",
      "Epoch 13/20\n",
      "23/23 [==============================] - 3s 128ms/step - loss: 0.6145 - accuracy: 0.6815 - val_loss: 0.5865 - val_accuracy: 0.7565\n",
      "Epoch 14/20\n",
      "23/23 [==============================] - 3s 128ms/step - loss: 0.6445 - accuracy: 0.6926 - val_loss: 0.6068 - val_accuracy: 0.6916\n",
      "Epoch 15/20\n",
      "23/23 [==============================] - 3s 129ms/step - loss: 0.5892 - accuracy: 0.6509 - val_loss: 0.5887 - val_accuracy: 0.7468\n",
      "Epoch 16/20\n",
      "23/23 [==============================] - 3s 129ms/step - loss: 0.5771 - accuracy: 0.7024 - val_loss: 0.5903 - val_accuracy: 0.7240\n",
      "Epoch 17/20\n",
      "23/23 [==============================] - 3s 129ms/step - loss: 0.5754 - accuracy: 0.6926 - val_loss: 0.6093 - val_accuracy: 0.6721\n",
      "Epoch 18/20\n",
      "23/23 [==============================] - 3s 129ms/step - loss: 0.5762 - accuracy: 0.6565 - val_loss: 0.6121 - val_accuracy: 0.6948\n",
      "Epoch 19/20\n",
      "23/23 [==============================] - 3s 128ms/step - loss: 0.5510 - accuracy: 0.6968 - val_loss: 0.5893 - val_accuracy: 0.7078\n",
      "Epoch 20/20\n",
      "23/23 [==============================] - 3s 129ms/step - loss: 0.5515 - accuracy: 0.7204 - val_loss: 0.5702 - val_accuracy: 0.7370\n",
      "metrics.sparsity=0.9, \t metrics.val_loss=0.5702, \t metrics.val_accuracy=73.7013\n",
      "Epoch 1/20\n",
      "23/23 [==============================] - 7s 140ms/step - loss: 126.4757 - accuracy: 0.9193 - val_loss: 0.0000e+00 - val_accuracy: 1.0000\n",
      "Epoch 2/20\n",
      "23/23 [==============================] - 3s 131ms/step - loss: 4.1247 - accuracy: 0.9944 - val_loss: 0.0000e+00 - val_accuracy: 1.0000\n",
      "Epoch 3/20\n",
      "23/23 [==============================] - 3s 131ms/step - loss: 0.7451 - accuracy: 0.9986 - val_loss: 0.0000e+00 - val_accuracy: 1.0000\n",
      "Epoch 4/20\n",
      "23/23 [==============================] - 3s 131ms/step - loss: 3.2692 - accuracy: 0.9944 - val_loss: 0.0000e+00 - val_accuracy: 1.0000\n",
      "Epoch 5/20\n",
      "23/23 [==============================] - 3s 130ms/step - loss: 32.9338 - accuracy: 0.8776 - val_loss: 18.7249 - val_accuracy: 0.8734\n",
      "Epoch 6/20\n",
      "23/23 [==============================] - 3s 130ms/step - loss: 17.1550 - accuracy: 0.9026 - val_loss: 6.1612 - val_accuracy: 0.9513\n",
      "Epoch 7/20\n",
      "23/23 [==============================] - 3s 130ms/step - loss: 4.0565 - accuracy: 0.9666 - val_loss: 0.0308 - val_accuracy: 0.9968\n",
      "Epoch 8/20\n",
      "23/23 [==============================] - 3s 129ms/step - loss: 1.8936 - accuracy: 0.9805 - val_loss: 0.0248 - val_accuracy: 0.9968\n",
      "Epoch 9/20\n",
      "23/23 [==============================] - 3s 129ms/step - loss: 5.3674 - accuracy: 0.8345 - val_loss: 11.9583 - val_accuracy: 0.5162\n",
      "Epoch 10/20\n",
      "23/23 [==============================] - 3s 128ms/step - loss: 3.3002 - accuracy: 0.5188 - val_loss: 0.6932 - val_accuracy: 0.5162\n",
      "Epoch 11/20\n",
      "23/23 [==============================] - 3s 128ms/step - loss: 0.6945 - accuracy: 0.4937 - val_loss: 0.6944 - val_accuracy: 0.4838\n",
      "Epoch 12/20\n",
      "23/23 [==============================] - 3s 128ms/step - loss: 0.6922 - accuracy: 0.5341 - val_loss: 0.6932 - val_accuracy: 0.4903\n",
      "Epoch 13/20\n",
      "23/23 [==============================] - 3s 128ms/step - loss: 0.6897 - accuracy: 0.5410 - val_loss: 0.6929 - val_accuracy: 0.4935\n",
      "Epoch 14/20\n",
      "23/23 [==============================] - 3s 128ms/step - loss: 0.6927 - accuracy: 0.5257 - val_loss: 0.6946 - val_accuracy: 0.4838\n",
      "Epoch 15/20\n",
      "23/23 [==============================] - 3s 128ms/step - loss: 0.6925 - accuracy: 0.5257 - val_loss: 0.6946 - val_accuracy: 0.4773\n",
      "Epoch 16/20\n",
      "23/23 [==============================] - 3s 128ms/step - loss: 0.6923 - accuracy: 0.5257 - val_loss: 0.6948 - val_accuracy: 0.4773\n",
      "Epoch 17/20\n",
      "23/23 [==============================] - 3s 129ms/step - loss: 0.6917 - accuracy: 0.5285 - val_loss: 0.6952 - val_accuracy: 0.4773\n",
      "Epoch 18/20\n",
      "23/23 [==============================] - 3s 128ms/step - loss: 0.6922 - accuracy: 0.5438 - val_loss: 0.6956 - val_accuracy: 0.4773\n",
      "Epoch 19/20\n",
      "23/23 [==============================] - 3s 128ms/step - loss: 0.6919 - accuracy: 0.5271 - val_loss: 0.6948 - val_accuracy: 0.4805\n",
      "Epoch 20/20\n",
      "23/23 [==============================] - 3s 129ms/step - loss: 0.6917 - accuracy: 0.5271 - val_loss: 0.6946 - val_accuracy: 0.4805\n",
      "metrics.sparsity=0.95, \t metrics.val_loss=0.6946, \t metrics.val_accuracy=48.0519\n",
      "Epoch 1/20\n",
      "23/23 [==============================] - 7s 140ms/step - loss: 235.1157 - accuracy: 0.8790 - val_loss: 0.0000e+00 - val_accuracy: 1.0000\n",
      "Epoch 2/20\n",
      "23/23 [==============================] - 3s 131ms/step - loss: 0.4614 - accuracy: 0.9986 - val_loss: 0.0000e+00 - val_accuracy: 1.0000\n",
      "Epoch 3/20\n",
      "23/23 [==============================] - 3s 131ms/step - loss: 2.0276 - accuracy: 0.9986 - val_loss: 0.0000e+00 - val_accuracy: 1.0000\n",
      "Epoch 4/20\n",
      "23/23 [==============================] - 3s 132ms/step - loss: 1.9440 - accuracy: 0.9972 - val_loss: 0.0000e+00 - val_accuracy: 1.0000\n",
      "Epoch 5/20\n",
      "23/23 [==============================] - 3s 130ms/step - loss: 30.8133 - accuracy: 0.8623 - val_loss: 4.5364 - val_accuracy: 0.9351\n",
      "Epoch 6/20\n",
      "23/23 [==============================] - 3s 130ms/step - loss: 19.5157 - accuracy: 0.8985 - val_loss: 7.5448 - val_accuracy: 0.9448\n",
      "Epoch 7/20\n",
      "23/23 [==============================] - 3s 129ms/step - loss: 6.5346 - accuracy: 0.9541 - val_loss: 1.0663 - val_accuracy: 0.9773\n",
      "Epoch 8/20\n",
      "23/23 [==============================] - 3s 130ms/step - loss: 1.8105 - accuracy: 0.9750 - val_loss: 0.6368 - val_accuracy: 0.9903\n",
      "Epoch 9/20\n",
      "23/23 [==============================] - 3s 129ms/step - loss: 6.0552 - accuracy: 0.8164 - val_loss: 1.2856 - val_accuracy: 0.5162\n",
      "Epoch 10/20\n",
      "23/23 [==============================] - 3s 128ms/step - loss: 2.4720 - accuracy: 0.4910 - val_loss: 0.6964 - val_accuracy: 0.5162\n",
      "Epoch 11/20\n",
      "23/23 [==============================] - 3s 129ms/step - loss: 0.6950 - accuracy: 0.4743 - val_loss: 0.6934 - val_accuracy: 0.5162\n",
      "Epoch 12/20\n",
      "23/23 [==============================] - 3s 128ms/step - loss: 0.6933 - accuracy: 0.5021 - val_loss: 0.6936 - val_accuracy: 0.4838\n",
      "Epoch 13/20\n",
      "23/23 [==============================] - 3s 128ms/step - loss: 0.6930 - accuracy: 0.5257 - val_loss: 0.6938 - val_accuracy: 0.4870\n",
      "Epoch 14/20\n",
      "23/23 [==============================] - 3s 128ms/step - loss: 0.6927 - accuracy: 0.5271 - val_loss: 0.6941 - val_accuracy: 0.4805\n",
      "Epoch 15/20\n",
      "23/23 [==============================] - 3s 129ms/step - loss: 0.6929 - accuracy: 0.5243 - val_loss: 0.6941 - val_accuracy: 0.4838\n",
      "Epoch 16/20\n",
      "23/23 [==============================] - 3s 128ms/step - loss: 0.6924 - accuracy: 0.5285 - val_loss: 0.6944 - val_accuracy: 0.4805\n",
      "Epoch 17/20\n",
      "23/23 [==============================] - 3s 128ms/step - loss: 0.6917 - accuracy: 0.5271 - val_loss: 0.6947 - val_accuracy: 0.4805\n",
      "Epoch 18/20\n",
      "23/23 [==============================] - 3s 128ms/step - loss: 0.6920 - accuracy: 0.5257 - val_loss: 0.6948 - val_accuracy: 0.4805\n",
      "Epoch 19/20\n",
      "23/23 [==============================] - 3s 128ms/step - loss: 0.6920 - accuracy: 0.5257 - val_loss: 0.6947 - val_accuracy: 0.4838\n",
      "Epoch 20/20\n",
      "23/23 [==============================] - 3s 128ms/step - loss: 0.6915 - accuracy: 0.5257 - val_loss: 0.6949 - val_accuracy: 0.4838\n",
      "metrics.sparsity=0.97, \t metrics.val_loss=0.6949, \t metrics.val_accuracy=48.3766\n",
      "Epoch 1/20\n",
      "23/23 [==============================] - 7s 140ms/step - loss: 182.2600 - accuracy: 0.8915 - val_loss: 0.0000e+00 - val_accuracy: 1.0000\n",
      "Epoch 2/20\n",
      "23/23 [==============================] - 3s 131ms/step - loss: 2.5964 - accuracy: 0.9944 - val_loss: 0.0000e+00 - val_accuracy: 1.0000\n",
      "Epoch 3/20\n",
      "23/23 [==============================] - 3s 131ms/step - loss: 2.5236 - accuracy: 0.9972 - val_loss: 0.0000e+00 - val_accuracy: 1.0000\n",
      "Epoch 4/20\n",
      "23/23 [==============================] - 3s 131ms/step - loss: 0.1604 - accuracy: 0.9986 - val_loss: 0.0000e+00 - val_accuracy: 1.0000\n",
      "Epoch 5/20\n",
      "23/23 [==============================] - 3s 130ms/step - loss: 49.7366 - accuracy: 0.8261 - val_loss: 16.1918 - val_accuracy: 0.9058\n",
      "Epoch 6/20\n",
      "23/23 [==============================] - 3s 129ms/step - loss: 14.4395 - accuracy: 0.8901 - val_loss: 3.0374 - val_accuracy: 0.9643\n",
      "Epoch 7/20\n",
      "23/23 [==============================] - 3s 129ms/step - loss: 10.7483 - accuracy: 0.9152 - val_loss: 3.4404 - val_accuracy: 0.9578\n",
      "Epoch 8/20\n",
      "23/23 [==============================] - 3s 129ms/step - loss: 4.4272 - accuracy: 0.9527 - val_loss: 3.9242 - val_accuracy: 0.9448\n",
      "Epoch 9/20\n",
      "23/23 [==============================] - 3s 129ms/step - loss: 4.1376 - accuracy: 0.8206 - val_loss: 4.9067 - val_accuracy: 0.5162\n",
      "Epoch 10/20\n",
      "23/23 [==============================] - 3s 127ms/step - loss: 1.7528 - accuracy: 0.5202 - val_loss: 0.8685 - val_accuracy: 0.4805\n",
      "Epoch 11/20\n",
      "23/23 [==============================] - 3s 127ms/step - loss: 0.7604 - accuracy: 0.5257 - val_loss: 0.6964 - val_accuracy: 0.5065\n",
      "Epoch 12/20\n",
      "23/23 [==============================] - 3s 127ms/step - loss: 0.6911 - accuracy: 0.5202 - val_loss: 0.6986 - val_accuracy: 0.4838\n",
      "Epoch 13/20\n",
      "23/23 [==============================] - 3s 128ms/step - loss: 0.6906 - accuracy: 0.5341 - val_loss: 0.6957 - val_accuracy: 0.4870\n",
      "Epoch 14/20\n",
      "23/23 [==============================] - 3s 128ms/step - loss: 0.6870 - accuracy: 0.5313 - val_loss: 0.6994 - val_accuracy: 0.4870\n",
      "Epoch 15/20\n",
      "23/23 [==============================] - 3s 128ms/step - loss: 0.6870 - accuracy: 0.5424 - val_loss: 0.6952 - val_accuracy: 0.4578\n",
      "Epoch 16/20\n",
      "23/23 [==============================] - 3s 127ms/step - loss: 0.6865 - accuracy: 0.5452 - val_loss: 0.6974 - val_accuracy: 0.5292\n",
      "Epoch 17/20\n",
      "23/23 [==============================] - 3s 127ms/step - loss: 0.6846 - accuracy: 0.5424 - val_loss: 0.6959 - val_accuracy: 0.5390\n",
      "Epoch 18/20\n",
      "23/23 [==============================] - 3s 127ms/step - loss: 0.6835 - accuracy: 0.5508 - val_loss: 0.6873 - val_accuracy: 0.5325\n",
      "Epoch 19/20\n",
      "23/23 [==============================] - 3s 128ms/step - loss: 0.6839 - accuracy: 0.5480 - val_loss: 0.6844 - val_accuracy: 0.5325\n",
      "Epoch 20/20\n",
      "23/23 [==============================] - 3s 127ms/step - loss: 0.6751 - accuracy: 0.5661 - val_loss: 0.6772 - val_accuracy: 0.6169\n",
      "metrics.sparsity=0.99, \t metrics.val_loss=0.6772, \t metrics.val_accuracy=61.6883\n"
     ]
    },
    {
     "data": {
      "text/html": [
       "<div>\n",
       "<style scoped>\n",
       "    .dataframe tbody tr th:only-of-type {\n",
       "        vertical-align: middle;\n",
       "    }\n",
       "\n",
       "    .dataframe tbody tr th {\n",
       "        vertical-align: top;\n",
       "    }\n",
       "\n",
       "    .dataframe thead th {\n",
       "        text-align: right;\n",
       "    }\n",
       "</style>\n",
       "<table border=\"1\" class=\"dataframe\">\n",
       "  <thead>\n",
       "    <tr style=\"text-align: right;\">\n",
       "      <th></th>\n",
       "      <th>sparsity</th>\n",
       "      <th>val_loss</th>\n",
       "      <th>val_accuracy</th>\n",
       "    </tr>\n",
       "  </thead>\n",
       "  <tbody>\n",
       "    <tr>\n",
       "      <th>0</th>\n",
       "      <td>0.25</td>\n",
       "      <td>0.0000</td>\n",
       "      <td>100.0000</td>\n",
       "    </tr>\n",
       "    <tr>\n",
       "      <th>0</th>\n",
       "      <td>0.50</td>\n",
       "      <td>0.0000</td>\n",
       "      <td>100.0000</td>\n",
       "    </tr>\n",
       "    <tr>\n",
       "      <th>0</th>\n",
       "      <td>0.60</td>\n",
       "      <td>0.0000</td>\n",
       "      <td>100.0000</td>\n",
       "    </tr>\n",
       "    <tr>\n",
       "      <th>0</th>\n",
       "      <td>0.70</td>\n",
       "      <td>0.0000</td>\n",
       "      <td>100.0000</td>\n",
       "    </tr>\n",
       "    <tr>\n",
       "      <th>0</th>\n",
       "      <td>0.80</td>\n",
       "      <td>0.0561</td>\n",
       "      <td>99.6753</td>\n",
       "    </tr>\n",
       "    <tr>\n",
       "      <th>0</th>\n",
       "      <td>0.90</td>\n",
       "      <td>0.5702</td>\n",
       "      <td>73.7013</td>\n",
       "    </tr>\n",
       "    <tr>\n",
       "      <th>0</th>\n",
       "      <td>0.95</td>\n",
       "      <td>0.6946</td>\n",
       "      <td>48.0519</td>\n",
       "    </tr>\n",
       "    <tr>\n",
       "      <th>0</th>\n",
       "      <td>0.97</td>\n",
       "      <td>0.6949</td>\n",
       "      <td>48.3766</td>\n",
       "    </tr>\n",
       "    <tr>\n",
       "      <th>0</th>\n",
       "      <td>0.99</td>\n",
       "      <td>0.6772</td>\n",
       "      <td>61.6883</td>\n",
       "    </tr>\n",
       "  </tbody>\n",
       "</table>\n",
       "</div>"
      ],
      "text/plain": [
       "   sparsity  val_loss  val_accuracy\n",
       "0      0.25    0.0000      100.0000\n",
       "0      0.50    0.0000      100.0000\n",
       "0      0.60    0.0000      100.0000\n",
       "0      0.70    0.0000      100.0000\n",
       "0      0.80    0.0561       99.6753\n",
       "0      0.90    0.5702       73.7013\n",
       "0      0.95    0.6946       48.0519\n",
       "0      0.97    0.6949       48.3766\n",
       "0      0.99    0.6772       61.6883"
      ]
     },
     "execution_count": 18,
     "metadata": {},
     "output_type": "execute_result"
    }
   ],
   "source": [
    "k_sparsities = [0.25, 0.50, 0.60, 0.70, 0.80, 0.90, 0.95, 0.97, 0.99]\n",
    "\n",
    "metric_list = []\n",
    "\n",
    "for k in k_sparsities:\n",
    "    # Load in the best saved model\n",
    "    model_1 = models.load_model(\"model_experiments/model_horses_or_humans.keras\")\n",
    "    pruned_model: PrunedModel = unstructured_prune_model(model_1, k, 20, train_batches, validation_batches, BATCH_SIZE)\n",
    "    metrics = pruned_model.metrics\n",
    "    print(f\"{metrics.sparsity=}, \\t {metrics.val_loss=}, \\t {metrics.val_accuracy=}\")\n",
    "    metric_list.append(metrics.to_df())\n",
    "\n",
    "# Create a dataframe of the values obtained\n",
    "df = pd.concat(metric_list)\n",
    "df.to_csv(UNSTRUCTURED_METRICS)\n",
    "df"
   ]
  },
  {
   "cell_type": "code",
   "execution_count": 19,
   "metadata": {
    "ExecuteTime": {
     "end_time": "2024-11-28T20:36:04.048918Z",
     "start_time": "2024-11-28T20:36:03.615691Z"
    },
    "collapsed": false,
    "jupyter": {
     "outputs_hidden": false
    }
   },
   "outputs": [
    {
     "data": {
      "image/png": "[encoded data removed]",
      "text/plain": [
       "<Figure size 640x480 with 2 Axes>"
      ]
     },
     "metadata": {},
     "output_type": "display_data"
    }
   ],
   "source": [
    "data1 = pd.read_csv(UNSTRUCTURED_METRICS)\n",
    "\n",
    "plot_unstructured_accuracy_sparcity(data1)"
   ]
  },
  {
   "cell_type": "code",
   "execution_count": 20,
   "metadata": {
    "ExecuteTime": {
     "end_time": "2024-11-28T22:04:02.107883Z",
     "start_time": "2024-11-28T21:16:08.637446Z"
    },
    "collapsed": false,
    "jupyter": {
     "outputs_hidden": false
    }
   },
   "outputs": [
    {
     "name": "stdout",
     "output_type": "stream",
     "text": [
      "Epoch 1/20\n",
      "23/23 [==============================] - 7s 141ms/step - loss: 246.3978 - accuracy: 0.8665 - val_loss: 27.5637 - val_accuracy: 0.9773\n",
      "Epoch 2/20\n",
      "23/23 [==============================] - 3s 131ms/step - loss: 17.7780 - accuracy: 0.9861 - val_loss: 0.0000e+00 - val_accuracy: 1.0000\n",
      "Epoch 3/20\n",
      "23/23 [==============================] - 3s 131ms/step - loss: 0.8391 - accuracy: 0.9986 - val_loss: 0.0000e+00 - val_accuracy: 1.0000\n",
      "Epoch 4/20\n",
      "23/23 [==============================] - 3s 131ms/step - loss: 0.0000e+00 - accuracy: 1.0000 - val_loss: 0.0000e+00 - val_accuracy: 1.0000\n",
      "Epoch 5/20\n",
      "23/23 [==============================] - 3s 131ms/step - loss: 3.2843 - accuracy: 0.9903 - val_loss: 0.0000e+00 - val_accuracy: 1.0000\n",
      "Epoch 6/20\n",
      "23/23 [==============================] - 3s 130ms/step - loss: 0.7137 - accuracy: 0.9944 - val_loss: 0.3773 - val_accuracy: 0.9968\n",
      "Epoch 7/20\n",
      "23/23 [==============================] - 3s 130ms/step - loss: 1.0724 - accuracy: 0.9930 - val_loss: 0.0000e+00 - val_accuracy: 1.0000\n",
      "Epoch 8/20\n",
      "23/23 [==============================] - 3s 130ms/step - loss: 3.6450 - accuracy: 0.9903 - val_loss: 0.0000e+00 - val_accuracy: 1.0000\n",
      "Epoch 9/20\n",
      "23/23 [==============================] - 3s 130ms/step - loss: 11.8947 - accuracy: 0.9416 - val_loss: 4.3138 - val_accuracy: 0.9416\n",
      "Epoch 10/20\n",
      "23/23 [==============================] - 3s 130ms/step - loss: 13.3935 - accuracy: 0.9124 - val_loss: 14.8295 - val_accuracy: 0.8896\n",
      "Epoch 11/20\n",
      "23/23 [==============================] - 3s 129ms/step - loss: 11.8074 - accuracy: 0.9207 - val_loss: 0.2048 - val_accuracy: 0.9903\n",
      "Epoch 12/20\n",
      "23/23 [==============================] - 3s 130ms/step - loss: 1.7786 - accuracy: 0.9694 - val_loss: 2.7756 - val_accuracy: 0.9610\n",
      "Epoch 13/20\n",
      "23/23 [==============================] - 3s 129ms/step - loss: 3.5201 - accuracy: 0.9666 - val_loss: 1.0608 - val_accuracy: 0.9838\n",
      "Epoch 14/20\n",
      "23/23 [==============================] - 3s 130ms/step - loss: 0.2296 - accuracy: 0.9958 - val_loss: 0.5769 - val_accuracy: 0.9935\n",
      "Epoch 15/20\n",
      "23/23 [==============================] - 3s 129ms/step - loss: 0.3333 - accuracy: 0.9930 - val_loss: 0.6874 - val_accuracy: 0.9935\n",
      "Epoch 16/20\n",
      "23/23 [==============================] - 3s 130ms/step - loss: 0.1272 - accuracy: 0.9986 - val_loss: 0.3624 - val_accuracy: 0.9935\n",
      "Epoch 17/20\n",
      "23/23 [==============================] - 3s 130ms/step - loss: 0.1598 - accuracy: 0.9972 - val_loss: 0.6943 - val_accuracy: 0.9935\n",
      "Epoch 18/20\n",
      "23/23 [==============================] - 3s 129ms/step - loss: 0.3575 - accuracy: 0.9944 - val_loss: 1.3167 - val_accuracy: 0.9870\n",
      "Epoch 19/20\n",
      "23/23 [==============================] - 3s 130ms/step - loss: 0.0488 - accuracy: 0.9944 - val_loss: 0.4865 - val_accuracy: 0.9935\n",
      "Epoch 20/20\n",
      "23/23 [==============================] - 3s 129ms/step - loss: 0.0270 - accuracy: 0.9986 - val_loss: 0.0440 - val_accuracy: 0.9968\n",
      "Model: \"model_experiments/model_horses_or_humans.keras\"\n",
      "_________________________________________________________________\n",
      " Layer (type)                Output Shape              Param #   \n",
      "=================================================================\n",
      " input_2 (InputLayer)        [(None, 224, 224, 3)]     0         \n",
      "                                                                 \n",
      " sequential (Sequential)     (None, 14, 14, 512)       15267864  \n",
      "                                                                 \n",
      " prune_low_magnitude_global  (None, 512)               1         \n",
      " _max_pooling2d (PruneLowMa                                      \n",
      " gnitude)                                                        \n",
      "                                                                 \n",
      " prune_low_magnitude_dropou  (None, 512)               1         \n",
      " t (PruneLowMagnitude)                                           \n",
      "                                                                 \n",
      " prune_low_magnitude_dense   (None, 2)                 2052      \n",
      " (PruneLowMagnitude)                                             \n",
      "                                                                 \n",
      "=================================================================\n",
      "Total params: 15269918 (58.25 MB)\n",
      "Trainable params: 2360834 (9.01 MB)\n",
      "Non-trainable params: 12909084 (49.24 MB)\n",
      "_________________________________________________________________\n"
     ]
    }
   ],
   "source": [
    "final_model = models.load_model(HORSE_AND_HUMAN_MODEL + \".keras\")\n",
    "\n",
    "# Choose the best sparsity level\n",
    "final_sparsity = 0.80\n",
    "\n",
    "pruned_model: PrunedModel = unstructured_prune_model(\n",
    "    final_model,\n",
    "    final_sparsity,\n",
    "    20,\n",
    "    train_batches,\n",
    "    validation_batches,\n",
    "    BATCH_SIZE)\n",
    "\n",
    "pruned_model = pruned_model.model\n",
    "\n",
    "# Save the model\n",
    "pruned_model.save(HORSE_AND_HUMAN_MODEL + \"_pruned_\" + str(final_sparsity) + \".keras\")\n",
    "pruned_model.summary()"
   ]
  },
  {
   "cell_type": "code",
   "execution_count": 21,
   "metadata": {
    "ExecuteTime": {
     "end_time": "2024-11-28T20:41:57.690639Z",
     "start_time": "2024-11-28T20:41:57.647499Z"
    }
   },
   "outputs": [
    {
     "name": "stdout",
     "output_type": "stream",
     "text": [
      "1/1 [==============================] - 0s 187ms/step\n",
      "1/1 [==============================] - 0s 23ms/step\n",
      "1/1 [==============================] - 0s 26ms/step\n",
      "1/1 [==============================] - 0s 23ms/step\n",
      "1/1 [==============================] - 0s 20ms/step\n",
      "1/1 [==============================] - 0s 18ms/step\n",
      "1/1 [==============================] - 0s 18ms/step\n",
      "1/1 [==============================] - 0s 18ms/step\n",
      "1/1 [==============================] - 0s 23ms/step\n",
      "1/1 [==============================] - 0s 179ms/step\n",
      "The first image takes 311.18 ms\n",
      "The average time taken per 99 images 147.69 ms\n",
      "The standard deviation of samples is 45.25 ms\n"
     ]
    },
    {
     "name": "stderr",
     "output_type": "stream",
     "text": [
      "2024-12-01 23:11:29.555344: I tensorflow/core/framework/local_rendezvous.cc:405] Local rendezvous is aborting with status: OUT_OF_RANGE: End of sequence\n"
     ]
    }
   ],
   "source": [
    "init_time, avg_time, std = time_benchmark(pruned_model, class_names, val_data)"
   ]
  },
  {
   "cell_type": "markdown",
   "metadata": {},
   "source": [
    "# Apply a compression algorithm to see the benefits of pruning"
   ]
  },
  {
   "cell_type": "code",
   "execution_count": 22,
   "metadata": {
    "ExecuteTime": {
     "end_time": "2024-11-28T22:14:24.060705Z",
     "start_time": "2024-11-28T22:14:23.554673Z"
    }
   },
   "outputs": [],
   "source": [
    "model_for_export = tfmot.sparsity.keras.strip_pruning(pruned_model)\n",
    "model_for_export.save_weights(UNSTRUCTURED_HORSE_AND_HUMAN_WEIGHTS)"
   ]
  },
  {
   "cell_type": "markdown",
   "metadata": {},
   "source": [
    "# Need to convert the model to a TFLite model"
   ]
  },
  {
   "cell_type": "code",
   "execution_count": 23,
   "metadata": {
    "ExecuteTime": {
     "end_time": "2024-11-28T22:14:32.671599Z",
     "start_time": "2024-11-28T22:14:28.964869Z"
    }
   },
   "outputs": [
    {
     "name": "stdout",
     "output_type": "stream",
     "text": [
      "INFO:tensorflow:Assets written to: /tmp/tmpp0hff_27/assets\n"
     ]
    },
    {
     "name": "stderr",
     "output_type": "stream",
     "text": [
      "INFO:tensorflow:Assets written to: /tmp/tmpp0hff_27/assets\n"
     ]
    },
    {
     "name": "stdout",
     "output_type": "stream",
     "text": [
      "Saved pruned TFLite model to: /tmp/tmp59ztinx1.tflite\n"
     ]
    },
    {
     "name": "stderr",
     "output_type": "stream",
     "text": [
      "W0000 00:00:1733094690.887414   23894 tf_tfl_flatbuffer_helpers.cc:365] Ignored output_format.\n",
      "W0000 00:00:1733094690.887446   23894 tf_tfl_flatbuffer_helpers.cc:368] Ignored drop_control_dependency.\n",
      "2024-12-01 23:11:30.887720: I tensorflow/cc/saved_model/reader.cc:83] Reading SavedModel from: /tmp/tmpp0hff_27\n",
      "2024-12-01 23:11:30.889167: I tensorflow/cc/saved_model/reader.cc:52] Reading meta graph with tags { serve }\n",
      "2024-12-01 23:11:30.889182: I tensorflow/cc/saved_model/reader.cc:147] Reading SavedModel debug info (if present) from: /tmp/tmpp0hff_27\n",
      "I0000 00:00:1733094690.895524   23894 mlir_graph_optimization_pass.cc:401] MLIR V1 optimization pass is not enabled\n",
      "2024-12-01 23:11:30.897612: I tensorflow/cc/saved_model/loader.cc:236] Restoring SavedModel bundle.\n",
      "2024-12-01 23:11:30.941317: I tensorflow/cc/saved_model/loader.cc:220] Running initialization op on SavedModel bundle at path: /tmp/tmpp0hff_27\n",
      "2024-12-01 23:11:30.952825: I tensorflow/cc/saved_model/loader.cc:466] SavedModel load for tags { serve }; Status: success: OK. Took 65109 microseconds.\n"
     ]
    }
   ],
   "source": [
    "converter = tf.lite.TFLiteConverter.from_keras_model(model_for_export)\n",
    "pruned_tflite_model = converter.convert()\n",
    "\n",
    "_, pruned_tflite_file = tempfile.mkstemp('.tflite')\n",
    "\n",
    "with open(pruned_tflite_file, 'wb') as f:\n",
    "    f.write(pruned_tflite_model)\n",
    "\n",
    "print('Saved pruned TFLite model to:', pruned_tflite_file)"
   ]
  },
  {
   "cell_type": "markdown",
   "metadata": {},
   "source": [
    "# Convert original model to TFLite model"
   ]
  },
  {
   "cell_type": "code",
   "execution_count": 24,
   "metadata": {
    "ExecuteTime": {
     "end_time": "2024-11-28T20:58:01.097052Z",
     "start_time": "2024-11-28T20:58:01.052482Z"
    }
   },
   "outputs": [
    {
     "name": "stdout",
     "output_type": "stream",
     "text": [
      "INFO:tensorflow:Assets written to: /tmp/tmp_hvjmro0/assets\n"
     ]
    },
    {
     "name": "stderr",
     "output_type": "stream",
     "text": [
      "INFO:tensorflow:Assets written to: /tmp/tmp_hvjmro0/assets\n"
     ]
    },
    {
     "name": "stdout",
     "output_type": "stream",
     "text": [
      "Saved original TFLite model to: /tmp/tmp7o9vn0kn.tflite\n"
     ]
    },
    {
     "name": "stderr",
     "output_type": "stream",
     "text": [
      "W0000 00:00:1733094693.213541   23894 tf_tfl_flatbuffer_helpers.cc:365] Ignored output_format.\n",
      "W0000 00:00:1733094693.213585   23894 tf_tfl_flatbuffer_helpers.cc:368] Ignored drop_control_dependency.\n",
      "2024-12-01 23:11:33.213743: I tensorflow/cc/saved_model/reader.cc:83] Reading SavedModel from: /tmp/tmp_hvjmro0\n",
      "2024-12-01 23:11:33.218063: I tensorflow/cc/saved_model/reader.cc:52] Reading meta graph with tags { serve }\n",
      "2024-12-01 23:11:33.218078: I tensorflow/cc/saved_model/reader.cc:147] Reading SavedModel debug info (if present) from: /tmp/tmp_hvjmro0\n",
      "2024-12-01 23:11:33.229024: I tensorflow/cc/saved_model/loader.cc:236] Restoring SavedModel bundle.\n",
      "2024-12-01 23:11:33.293090: I tensorflow/cc/saved_model/loader.cc:220] Running initialization op on SavedModel bundle at path: /tmp/tmp_hvjmro0\n",
      "2024-12-01 23:11:33.308801: I tensorflow/cc/saved_model/loader.cc:466] SavedModel load for tags { serve }; Status: success: OK. Took 95060 microseconds.\n"
     ]
    }
   ],
   "source": [
    "converter = tf.lite.TFLiteConverter.from_keras_model(model_1)\n",
    "original_tflite_model = converter.convert()\n",
    "_, original_tflite_file = tempfile.mkstemp('.tflite')\n",
    "\n",
    "with open(original_tflite_file, 'wb') as f:\n",
    "    f.write(original_tflite_model)\n",
    "\n",
    "print('Saved original TFLite model to:', original_tflite_file)"
   ]
  },
  {
   "cell_type": "markdown",
   "metadata": {},
   "source": [
    "# Apply the Quantization algorithm to the model"
   ]
  },
  {
   "cell_type": "code",
   "execution_count": 25,
   "metadata": {
    "ExecuteTime": {
     "end_time": "2024-11-28T22:14:44.714225Z",
     "start_time": "2024-11-28T22:14:40.622365Z"
    }
   },
   "outputs": [
    {
     "name": "stdout",
     "output_type": "stream",
     "text": [
      "INFO:tensorflow:Assets written to: /tmp/tmpjhi5g9mj/assets\n"
     ]
    },
    {
     "name": "stderr",
     "output_type": "stream",
     "text": [
      "INFO:tensorflow:Assets written to: /tmp/tmpjhi5g9mj/assets\n"
     ]
    },
    {
     "name": "stdout",
     "output_type": "stream",
     "text": [
      "Saved quantized and pruned TFLite model to: /tmp/tmpdyr14b0u.tflite\n"
     ]
    },
    {
     "name": "stderr",
     "output_type": "stream",
     "text": [
      "W0000 00:00:1733094694.980541   23894 tf_tfl_flatbuffer_helpers.cc:365] Ignored output_format.\n",
      "W0000 00:00:1733094694.980584   23894 tf_tfl_flatbuffer_helpers.cc:368] Ignored drop_control_dependency.\n",
      "2024-12-01 23:11:34.980728: I tensorflow/cc/saved_model/reader.cc:83] Reading SavedModel from: /tmp/tmpjhi5g9mj\n",
      "2024-12-01 23:11:34.982728: I tensorflow/cc/saved_model/reader.cc:52] Reading meta graph with tags { serve }\n",
      "2024-12-01 23:11:34.982741: I tensorflow/cc/saved_model/reader.cc:147] Reading SavedModel debug info (if present) from: /tmp/tmpjhi5g9mj\n",
      "2024-12-01 23:11:34.992077: I tensorflow/cc/saved_model/loader.cc:236] Restoring SavedModel bundle.\n",
      "2024-12-01 23:11:35.040149: I tensorflow/cc/saved_model/loader.cc:220] Running initialization op on SavedModel bundle at path: /tmp/tmpjhi5g9mj\n",
      "2024-12-01 23:11:35.051984: I tensorflow/cc/saved_model/loader.cc:466] SavedModel load for tags { serve }; Status: success: OK. Took 71259 microseconds.\n"
     ]
    }
   ],
   "source": [
    "converter = tf.lite.TFLiteConverter.from_keras_model(model_for_export)\n",
    "converter.optimizations = [tf.lite.Optimize.DEFAULT]\n",
    "quantized_and_pruned_tflite_model = converter.convert()\n",
    "\n",
    "_, quantized_and_pruned_tflite_file = tempfile.mkstemp('.tflite')\n",
    "\n",
    "with open(quantized_and_pruned_tflite_file, 'wb') as f:\n",
    "    f.write(quantized_and_pruned_tflite_model)\n",
    "\n",
    "print('Saved quantized and pruned TFLite model to:', quantized_and_pruned_tflite_file)"
   ]
  },
  {
   "cell_type": "code",
   "execution_count": 26,
   "metadata": {
    "ExecuteTime": {
     "end_time": "2024-11-28T22:16:15.342645Z",
     "start_time": "2024-11-28T22:16:15.308222Z"
    }
   },
   "outputs": [
    {
     "name": "stdout",
     "output_type": "stream",
     "text": [
      "Saved baseline model to: /tmp/tmpirk4si22.h5\n"
     ]
    },
    {
     "name": "stderr",
     "output_type": "stream",
     "text": [
      "/tmp/ipykernel_23894/3027287240.py:2: UserWarning: You are saving your model as an HDF5 file via `model.save()`. This file format is considered legacy. We recommend using instead the native TF-Keras format, e.g. `model.save('my_model.keras')`.\n",
      "  tf.keras.models.save_model(model_1, keras_file, include_optimizer=False)\n"
     ]
    }
   ],
   "source": [
    "_, keras_file = tempfile.mkstemp('.h5')\n",
    "tf.keras.models.save_model(model_1, keras_file, include_optimizer=False)\n",
    "print('Saved baseline model to:', keras_file)"
   ]
  },
  {
   "cell_type": "code",
   "execution_count": null,
   "metadata": {},
   "outputs": [],
   "source": []
  }
 ],
 "metadata": {
  "kernelspec": {
   "display_name": "Python 3 (ipykernel)",
   "language": "python",
   "name": "python3"
  },
  "language_info": {
   "codemirror_mode": {
    "name": "ipython",
    "version": 3
   },
   "file_extension": ".py",
   "mimetype": "text/x-python",
   "name": "python",
   "nbconvert_exporter": "python",
   "pygments_lexer": "ipython3",
   "version": "3.12.3"
  }
 },
 "nbformat": 4,
 "nbformat_minor": 4
}
