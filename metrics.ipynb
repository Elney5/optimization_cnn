{
 "cells": [
  {
   "cell_type": "code",
   "execution_count": 1,
   "outputs": [],
   "source": [
    "import numpy as np\n",
    "import matplotlib.pyplot as plt\n",
    "import pandas as pd"
   ],
   "metadata": {
    "collapsed": false,
    "ExecuteTime": {
     "end_time": "2024-11-21T04:39:02.839710Z",
     "start_time": "2024-11-21T04:39:01.601300600Z"
    }
   }
  },
  {
   "cell_type": "code",
   "execution_count": 2,
   "outputs": [
    {
     "name": "stdout",
     "output_type": "stream",
     "text": [
      "WARNING:tensorflow:From C:\\Users\\neyen\\Documents\\Pro\\Projet\\venv\\lib\\site-packages\\tf_keras\\src\\losses.py:2976: The name tf.losses.sparse_softmax_cross_entropy is deprecated. Please use tf.compat.v1.losses.sparse_softmax_cross_entropy instead.\n",
      "\n"
     ]
    }
   ],
   "source": [
    "import tensorflow as tf\n",
    "import tf_keras\n",
    "import tensorflow_model_optimization as tfmot\n",
    "from tf_keras import layers,losses,optimizers,Sequential\n",
    "from tf_keras.models import Model\n",
    "from tf_keras.layers import Dense, Flatten, Dropout, GlobalAveragePooling2D,Input\n",
    "from tf_keras.applications import VGG16\n"
   ],
   "metadata": {
    "collapsed": false,
    "ExecuteTime": {
     "end_time": "2024-11-21T04:39:10.735266700Z",
     "start_time": "2024-11-21T04:39:02.842711700Z"
    }
   }
  },
  {
   "cell_type": "markdown",
   "source": [
    "# Importing the dataset"
   ],
   "metadata": {
    "collapsed": false
   }
  },
  {
   "cell_type": "code",
   "execution_count": 3,
   "outputs": [],
   "source": [
    "from importing_dataset import load_dataset"
   ],
   "metadata": {
    "collapsed": false,
    "ExecuteTime": {
     "end_time": "2024-11-21T04:39:11.132577Z",
     "start_time": "2024-11-21T04:39:10.736266500Z"
    }
   }
  },
  {
   "cell_type": "code",
   "execution_count": 4,
   "outputs": [],
   "source": [
    "train_examples,validation_examples,num_examples, num_classes, class_names = load_dataset('horses_or_humans',70)"
   ],
   "metadata": {
    "collapsed": false,
    "ExecuteTime": {
     "end_time": "2024-11-21T04:39:11.759519400Z",
     "start_time": "2024-11-21T04:39:11.133578200Z"
    }
   }
  },
  {
   "cell_type": "markdown",
   "source": [
    "# Reformating the dataset"
   ],
   "metadata": {
    "collapsed": false
   }
  },
  {
   "cell_type": "code",
   "execution_count": 5,
   "outputs": [],
   "source": [
    "from reformatting import reformat_image\n"
   ],
   "metadata": {
    "collapsed": false,
    "ExecuteTime": {
     "end_time": "2024-11-21T04:39:11.775663700Z",
     "start_time": "2024-11-21T04:39:11.762522600Z"
    }
   }
  },
  {
   "cell_type": "code",
   "execution_count": 6,
   "outputs": [
    {
     "name": "stdout",
     "output_type": "stream",
     "text": [
      "WARNING:tensorflow:From C:\\Users\\neyen\\Documents\\Pro\\Projet\\venv\\lib\\site-packages\\tf_keras\\src\\backend.py:1400: The name tf.executing_eagerly_outside_functions is deprecated. Please use tf.compat.v1.executing_eagerly_outside_functions instead.\n",
      "\n"
     ]
    },
    {
     "name": "stderr",
     "output_type": "stream",
     "text": [
      "WARNING:tensorflow:From C:\\Users\\neyen\\Documents\\Pro\\Projet\\venv\\lib\\site-packages\\tf_keras\\src\\backend.py:1400: The name tf.executing_eagerly_outside_functions is deprecated. Please use tf.compat.v1.executing_eagerly_outside_functions instead.\n",
      "\n"
     ]
    },
    {
     "name": "stdout",
     "output_type": "stream",
     "text": [
      "WARNING:tensorflow:From C:\\Users\\neyen\\Documents\\Pro\\Projet\\venv\\lib\\site-packages\\tf_keras\\src\\layers\\pooling\\max_pooling2d.py:161: The name tf.nn.max_pool is deprecated. Please use tf.nn.max_pool2d instead.\n",
      "\n"
     ]
    },
    {
     "name": "stderr",
     "output_type": "stream",
     "text": [
      "WARNING:tensorflow:From C:\\Users\\neyen\\Documents\\Pro\\Projet\\venv\\lib\\site-packages\\tf_keras\\src\\layers\\pooling\\max_pooling2d.py:161: The name tf.nn.max_pool is deprecated. Please use tf.nn.max_pool2d instead.\n",
      "\n"
     ]
    },
    {
     "name": "stdout",
     "output_type": "stream",
     "text": [
      "Model: \"model_confusion_matrix\"\n",
      "_________________________________________________________________\n",
      " Layer (type)                Output Shape              Param #   \n",
      "=================================================================\n",
      " input_2 (InputLayer)        [(None, 224, 224, 3)]     0         \n",
      "                                                                 \n",
      " sequential (Sequential)     (None, 14, 14, 512)       7635264   \n",
      "                                                                 \n",
      " global_max_pooling2d (Glob  (None, 512)               0         \n",
      " alMaxPooling2D)                                                 \n",
      "                                                                 \n",
      " dropout (Dropout)           (None, 512)               0         \n",
      "                                                                 \n",
      " dense (Dense)               (None, 2)                 1026      \n",
      "                                                                 \n",
      "=================================================================\n",
      "Total params: 7636290 (29.13 MB)\n",
      "Trainable params: 1026 (4.01 KB)\n",
      "Non-trainable params: 7635264 (29.13 MB)\n",
      "_________________________________________________________________\n"
     ]
    }
   ],
   "source": [
    "# Create the base model from the pre-trained model VGG16 for transfer learning\n",
    "vgg16_model = VGG16(input_shape=(224, 224, 3),\n",
    "                    include_top=False,\n",
    "                    weights='imagenet')\n",
    "# Freeze the base model\n",
    "vgg16_model.trainable = False\n",
    "\n",
    "# Create a sequential mode\n",
    "test_model = Sequential()\n",
    "for layer in vgg16_model.layers[:-4]:\n",
    "    test_model.add(layer)\n",
    "\n",
    "del vgg16_model\n",
    "\n",
    "for layer in test_model.layers:\n",
    "    layer.trainable = False\n",
    "\n",
    "\n",
    "# Add personal classification layers on top of the base model\n",
    "max_pool_layer = layers.GlobalMaxPooling2D()\n",
    "prediction_layer = layers.Dense(2, activation='softmax')  # For binary classification (2 classes)\n",
    "\n",
    "inputs = Input(shape=(224, 224, 3))\n",
    "x = test_model(inputs)  # Use default training=True behavior\n",
    "x = max_pool_layer(x)\n",
    "x = layers.Dropout(0.3)(x)  # Apply dropout during training\n",
    "outputs = prediction_layer(x)\n",
    "model = Model(inputs, outputs, name='model_confusion_matrix')\n",
    "\n",
    "model.summary()"
   ],
   "metadata": {
    "collapsed": false,
    "ExecuteTime": {
     "end_time": "2024-11-21T04:39:12.760164500Z",
     "start_time": "2024-11-21T04:39:11.779746200Z"
    }
   }
  },
  {
   "cell_type": "code",
   "execution_count": 11,
   "outputs": [],
   "source": [
    "from compilation import create_model_checkpoint\n",
    "from ConfusionMatrix import ConfusionMatrixTest\n",
    "from F1Score import F1Score"
   ],
   "metadata": {
    "collapsed": false,
    "ExecuteTime": {
     "end_time": "2024-11-21T04:49:36.002903900Z",
     "start_time": "2024-11-21T04:49:32.851446500Z"
    }
   }
  },
  {
   "cell_type": "code",
   "execution_count": 12,
   "outputs": [],
   "source": [
    "model.compile(\n",
    "    optimizer = 'adam',\n",
    "    loss = losses.SparseCategoricalCrossentropy(),\n",
    "    metrics=['accuracy'])"
   ],
   "metadata": {
    "collapsed": false,
    "ExecuteTime": {
     "end_time": "2024-11-21T04:49:41.594568Z",
     "start_time": "2024-11-21T04:49:41.549963300Z"
    }
   }
  },
  {
   "cell_type": "code",
   "execution_count": 13,
   "outputs": [
    {
     "name": "stdout",
     "output_type": "stream",
     "text": [
      "Epoch 1/3\n",
      "1/1 [==============================] - 4s 4s/step\n",
      "1/1 [==============================] - 4s 4s/step\n",
      "1/1 [==============================] - 4s 4s/step\n",
      "1/1 [==============================] - 4s 4s/step\n",
      "1/1 [==============================] - 4s 4s/step\n",
      "1/1 [==============================] - 4s 4s/step\n",
      "1/1 [==============================] - 4s 4s/step\n",
      "1/1 [==============================] - 4s 4s/step\n",
      "1/1 [==============================] - 4s 4s/step\n",
      "1/1 [==============================] - 2s 2s/step\n",
      "\n",
      "Confusion Matrix at epoch 1:\n",
      "[[156   3]\n",
      " [ 30 119]]\n",
      "\n",
      "Classification Report at epoch 1:\n",
      "              precision    recall  f1-score   support\n",
      "\n",
      "      horses     0.8387    0.9811    0.9043       159\n",
      "      humans     0.9754    0.7987    0.8782       149\n",
      "\n",
      "    accuracy                         0.8929       308\n",
      "   macro avg     0.9071    0.8899    0.8913       308\n",
      "weighted avg     0.9048    0.8929    0.8917       308\n",
      "\n",
      "23/23 [==============================] - 162s 7s/step - loss: 190.4271 - accuracy: 0.7469 - val_loss: 33.8565 - val_accuracy: 0.8929\n",
      "Epoch 2/3\n",
      "1/1 [==============================] - 5s 5s/step\n",
      "1/1 [==============================] - 5s 5s/step\n",
      "1/1 [==============================] - 5s 5s/step\n",
      "1/1 [==============================] - 5s 5s/step\n",
      "1/1 [==============================] - 5s 5s/step\n",
      "1/1 [==============================] - 6s 6s/step\n",
      "1/1 [==============================] - 5s 5s/step\n",
      "1/1 [==============================] - 5s 5s/step\n",
      "1/1 [==============================] - 5s 5s/step\n",
      "1/1 [==============================] - 3s 3s/step\n",
      "\n",
      "Confusion Matrix at epoch 2:\n",
      "[[155   4]\n",
      " [  9 140]]\n",
      "\n",
      "Classification Report at epoch 2:\n",
      "              precision    recall  f1-score   support\n",
      "\n",
      "      horses     0.9451    0.9748    0.9598       159\n",
      "      humans     0.9722    0.9396    0.9556       149\n",
      "\n",
      "    accuracy                         0.9578       308\n",
      "   macro avg     0.9587    0.9572    0.9577       308\n",
      "weighted avg     0.9582    0.9578    0.9578       308\n",
      "\n",
      "23/23 [==============================] - 187s 8s/step - loss: 153.0879 - accuracy: 0.7803 - val_loss: 9.4632 - val_accuracy: 0.9578\n",
      "Epoch 3/3\n",
      "1/1 [==============================] - 5s 5s/step\n",
      "1/1 [==============================] - 5s 5s/step\n",
      "1/1 [==============================] - 5s 5s/step\n",
      "1/1 [==============================] - 5s 5s/step\n",
      "1/1 [==============================] - 6s 6s/step\n",
      "1/1 [==============================] - 5s 5s/step\n",
      "1/1 [==============================] - 5s 5s/step\n",
      "1/1 [==============================] - 5s 5s/step\n",
      "1/1 [==============================] - 5s 5s/step\n",
      "1/1 [==============================] - 3s 3s/step\n",
      "\n",
      "Confusion Matrix at epoch 3:\n",
      "[[155   4]\n",
      " [  4 145]]\n",
      "\n",
      "Classification Report at epoch 3:\n",
      "              precision    recall  f1-score   support\n",
      "\n",
      "      horses     0.9748    0.9748    0.9748       159\n",
      "      humans     0.9732    0.9732    0.9732       149\n",
      "\n",
      "    accuracy                         0.9740       308\n",
      "   macro avg     0.9740    0.9740    0.9740       308\n",
      "weighted avg     0.9740    0.9740    0.9740       308\n",
      "\n",
      "23/23 [==============================] - 205s 9s/step - loss: 114.6163 - accuracy: 0.8150 - val_loss: 3.8212 - val_accuracy: 0.9740\n"
     ]
    }
   ],
   "source": [
    "from reformatting import reformat_image\n",
    "BATCH_SIZE = 32\n",
    "IMG_SIZE = (224, 224)\n",
    "class_names\n",
    "train_batches = train_examples.cache().shuffle(num_examples//4).map(reformat_image).batch(BATCH_SIZE).prefetch(1)\n",
    "validation_batches = validation_examples.map(reformat_image).batch(BATCH_SIZE).prefetch(1)\n",
    "EPOCHS = 3\n",
    "history = model.fit(train_batches,\n",
    "                    epochs = EPOCHS,\n",
    "                    batch_size = BATCH_SIZE,\n",
    "                    validation_data = validation_batches,callbacks=[F1Score(validation_data=validation_batches,labels=class_names)])"
   ],
   "metadata": {
    "collapsed": false,
    "ExecuteTime": {
     "end_time": "2024-11-21T04:59:04.915104500Z",
     "start_time": "2024-11-21T04:49:50.638267300Z"
    }
   }
  },
  {
   "cell_type": "code",
   "execution_count": 14,
   "outputs": [
    {
     "data": {
      "text/plain": "['horses', 'humans']"
     },
     "execution_count": 14,
     "metadata": {},
     "output_type": "execute_result"
    }
   ],
   "source": [
    "class_names"
   ],
   "metadata": {
    "collapsed": false,
    "ExecuteTime": {
     "end_time": "2024-11-21T04:59:04.939080600Z",
     "start_time": "2024-11-21T04:59:04.927196900Z"
    }
   }
  },
  {
   "cell_type": "code",
   "execution_count": 10,
   "outputs": [],
   "source": [],
   "metadata": {
    "collapsed": false,
    "ExecuteTime": {
     "end_time": "2024-11-21T04:47:34.385973600Z",
     "start_time": "2024-11-21T04:47:34.368574500Z"
    }
   }
  }
 ],
 "metadata": {
  "kernelspec": {
   "display_name": "Python 3",
   "language": "python",
   "name": "python3"
  },
  "language_info": {
   "codemirror_mode": {
    "name": "ipython",
    "version": 2
   },
   "file_extension": ".py",
   "mimetype": "text/x-python",
   "name": "python",
   "nbconvert_exporter": "python",
   "pygments_lexer": "ipython2",
   "version": "2.7.6"
  }
 },
 "nbformat": 4,
 "nbformat_minor": 0
}
