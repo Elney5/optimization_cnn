{
 "cells": [
  {
   "cell_type": "code",
   "execution_count": null,
   "id": "initial_id",
   "metadata": {
    "collapsed": true
   },
   "outputs": [],
   "source": [
    ""
   ]
  },
  {
   "metadata": {},
   "cell_type": "markdown",
   "source": "# IMPORTS",
   "id": "6848ebee221471bf"
  },
  {
   "metadata": {
    "ExecuteTime": {
     "end_time": "2024-12-18T03:19:35.940260Z",
     "start_time": "2024-12-18T03:19:35.932663Z"
    }
   },
   "cell_type": "code",
   "source": [
    "import os\n",
    "import tempfile\n",
    "\n",
    "from configparser import ConfigParser\n",
    "os.environ[\"TF_USE_LEGACY_KERAS\"]=\"1\"\n",
    "\n",
    "from tf_keras import losses,optimizers, models\n",
    "import tensorflow as tf\n",
    "import tensorflow_model_optimization as tfmot"
   ],
   "id": "9cf2df1f2b1b9e2f",
   "outputs": [],
   "execution_count": 3
  },
  {
   "metadata": {
    "ExecuteTime": {
     "end_time": "2024-12-18T03:19:44.870369Z",
     "start_time": "2024-12-18T03:19:44.178517Z"
    }
   },
   "cell_type": "code",
   "source": "from utils import load_dataset, reformat_image, entropy_prune_model,time_benchmark, normalize_img",
   "id": "fbfaa2dab3effabd",
   "outputs": [],
   "execution_count": 4
  },
  {
   "metadata": {
    "ExecuteTime": {
     "end_time": "2024-12-18T03:20:22.136127Z",
     "start_time": "2024-12-18T03:20:13.612970Z"
    }
   },
   "cell_type": "code",
   "source": "train_examples, validation_examples, num_examples, num_classes, class_names = load_dataset(\"tf_flowers\", 70)\n",
   "id": "e09d710d1db22ab3",
   "outputs": [
    {
     "name": "stderr",
     "output_type": "stream",
     "text": [
      "INFO:absl:Generating dataset tf_flowers (C:\\Users\\neyen\\tensorflow_datasets\\tf_flowers\\3.0.1)\n"
     ]
    },
    {
     "name": "stdout",
     "output_type": "stream",
     "text": [
      "\u001B[1mDownloading and preparing dataset Unknown size (download: Unknown size, generated: Unknown size, total: Unknown size) to C:\\Users\\neyen\\tensorflow_datasets\\tf_flowers\\3.0.1...\u001B[0m\n"
     ]
    },
    {
     "data": {
      "text/plain": [
       "Dl Completed...: 0 url [00:00, ? url/s]"
      ],
      "application/vnd.jupyter.widget-view+json": {
       "version_major": 2,
       "version_minor": 0,
       "model_id": "ae6e928e20884f6a98a47e401927e86f"
      }
     },
     "metadata": {},
     "output_type": "display_data"
    },
    {
     "data": {
      "text/plain": [
       "Dl Size...: 0 MiB [00:00, ? MiB/s]"
      ],
      "application/vnd.jupyter.widget-view+json": {
       "version_major": 2,
       "version_minor": 0,
       "model_id": "cdff3c892659492b925d020f8fea9d62"
      }
     },
     "metadata": {},
     "output_type": "display_data"
    },
    {
     "name": "stderr",
     "output_type": "stream",
     "text": [
      "INFO:absl:Downloading http://download.tensorflow.org/example_images/flower_photos.tgz into C:\\Users\\neyen\\tensorflow_datasets\\downloads\\tf_flowers\\downl.tenso.org_examp_image_flowe_photok5_wYA8b0X3dMSAtkkUlVGs8dfM5H3yrzHcr_bVE4Ns.tgz.tmp.75569bc68c0a416585449b0c35edfd21...\n"
     ]
    },
    {
     "data": {
      "text/plain": [
       "Generating splits...:   0%|          | 0/1 [00:00<?, ? splits/s]"
      ],
      "application/vnd.jupyter.widget-view+json": {
       "version_major": 2,
       "version_minor": 0,
       "model_id": "1fa2c6235e05440397dcafbe50a5f951"
      }
     },
     "metadata": {},
     "output_type": "display_data"
    },
    {
     "data": {
      "text/plain": [
       "Generating train examples...: 0 examples [00:00, ? examples/s]"
      ],
      "application/vnd.jupyter.widget-view+json": {
       "version_major": 2,
       "version_minor": 0,
       "model_id": "75cac2c6bf3f4ac2a5e4696736df1fb9"
      }
     },
     "metadata": {},
     "output_type": "display_data"
    },
    {
     "data": {
      "text/plain": [
       "Shuffling C:\\Users\\neyen\\tensorflow_datasets\\tf_flowers\\incomplete.ZXKQ0Y_3.0.1\\tf_flowers-train.tfrecord*...:…"
      ],
      "application/vnd.jupyter.widget-view+json": {
       "version_major": 2,
       "version_minor": 0,
       "model_id": "0df5092e6d2b4922b58426fb32480e4e"
      }
     },
     "metadata": {},
     "output_type": "display_data"
    },
    {
     "name": "stderr",
     "output_type": "stream",
     "text": [
      "INFO:absl:Done writing C:\\Users\\neyen\\tensorflow_datasets\\tf_flowers\\incomplete.ZXKQ0Y_3.0.1\\tf_flowers-train.tfrecord*. Number of examples: 3670 (shards: [1835, 1835])\n",
      "INFO:absl:Creating a tf.data.Dataset reading 2 files located in folders: C:\\Users\\neyen\\tensorflow_datasets\\tf_flowers\\3.0.1.\n"
     ]
    },
    {
     "name": "stdout",
     "output_type": "stream",
     "text": [
      "\u001B[1mDataset tf_flowers downloaded and prepared to C:\\Users\\neyen\\tensorflow_datasets\\tf_flowers\\3.0.1. Subsequent calls will reuse this data.\u001B[0m\n"
     ]
    },
    {
     "name": "stderr",
     "output_type": "stream",
     "text": [
      "INFO:absl:Creating a tf.data.Dataset reading 1 files located in folders: C:\\Users\\neyen\\tensorflow_datasets\\tf_flowers\\3.0.1.\n",
      "INFO:absl:Constructing tf.data.Dataset tf_flowers for split ('train[:70%]', 'train[70%:]'), from C:\\Users\\neyen\\tensorflow_datasets\\tf_flowers\\3.0.1\n"
     ]
    }
   ],
   "execution_count": 5
  },
  {
   "metadata": {
    "ExecuteTime": {
     "end_time": "2024-12-18T03:20:33.491013Z",
     "start_time": "2024-12-18T03:20:33.477403Z"
    }
   },
   "cell_type": "code",
   "source": "train_examples",
   "id": "e2cd3c4c8e83a6a7",
   "outputs": [
    {
     "data": {
      "text/plain": [
       "<_PrefetchDataset element_spec=(TensorSpec(shape=(None, None, 3), dtype=tf.uint8, name=None), TensorSpec(shape=(), dtype=tf.int64, name=None))>"
      ]
     },
     "execution_count": 6,
     "metadata": {},
     "output_type": "execute_result"
    }
   ],
   "execution_count": 6
  },
  {
   "metadata": {
    "ExecuteTime": {
     "end_time": "2024-12-18T03:26:59.768627Z",
     "start_time": "2024-12-18T03:26:59.757493Z"
    }
   },
   "cell_type": "code",
   "source": "len(train_examples)",
   "id": "8cdcc34e223ec436",
   "outputs": [
    {
     "data": {
      "text/plain": [
       "2569"
      ]
     },
     "execution_count": 7,
     "metadata": {},
     "output_type": "execute_result"
    }
   ],
   "execution_count": 7
  },
  {
   "metadata": {
    "ExecuteTime": {
     "end_time": "2024-12-18T03:27:10.051652Z",
     "start_time": "2024-12-18T03:27:10.039350Z"
    }
   },
   "cell_type": "code",
   "source": "len(validation_examples)",
   "id": "1464faea619bbaf2",
   "outputs": [
    {
     "data": {
      "text/plain": [
       "1101"
      ]
     },
     "execution_count": 8,
     "metadata": {},
     "output_type": "execute_result"
    }
   ],
   "execution_count": 8
  },
  {
   "metadata": {},
   "cell_type": "code",
   "outputs": [],
   "execution_count": null,
   "source": "",
   "id": "d0369d842b3a1d71"
  }
 ],
 "metadata": {
  "kernelspec": {
   "display_name": "Python 3",
   "language": "python",
   "name": "python3"
  },
  "language_info": {
   "codemirror_mode": {
    "name": "ipython",
    "version": 2
   },
   "file_extension": ".py",
   "mimetype": "text/x-python",
   "name": "python",
   "nbconvert_exporter": "python",
   "pygments_lexer": "ipython2",
   "version": "2.7.6"
  }
 },
 "nbformat": 4,
 "nbformat_minor": 5
}
